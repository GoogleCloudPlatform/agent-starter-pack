{
 "cells": [
  {
   "cell_type": "code",
   "execution_count": 1,
   "metadata": {},
   "outputs": [],
   "source": [
    "project_id = \"telefonica-425415\"\n",
    "metadata = {'datasetId': 'stackoverflow_data', 'projectId': 'telefonica-425415', 'tableId': 'questions_embeddings'}\n",
    "dataset = metadata[\"datasetId\"]\n",
    "table = metadata[\"tableId\"]"
   ]
  },
  {
   "cell_type": "code",
   "execution_count": 55,
   "metadata": {},
   "outputs": [
    {
     "data": {
      "text/html": [
       "Query job c513ffdc-9346-446d-a503-3513b14922eb is DONE. 50.3 MB processed. <a target=\"_blank\" href=\"https://console.cloud.google.com/bigquery?project=telefonica-425415&j=bq:us-central1:c513ffdc-9346-446d-a503-3513b14922eb&page=queryresults\">Open Job</a>"
      ],
      "text/plain": [
       "<IPython.core.display.HTML object>"
      ]
     },
     "metadata": {},
     "output_type": "display_data"
    }
   ],
   "source": [
    "import bigframes.pandas as bpd\n",
    "query = f\"\"\"\n",
    "SELECT\n",
    "\n",
    "question_id\n",
    "\n",
    ", last_edit_date\n",
    "\n",
    ", full_text_md\n",
    "\n",
    ", text_chunk\n",
    "\n",
    ", chunk_id\n",
    "\n",
    ", embedding\n",
    "\n",
    "FROM telefonica-425415.stackoverflow_data.questions_embeddings\n",
    "\n",
    "where true\n",
    "\n",
    "\n",
    "\"\"\"\n",
    "df = bpd.read_gbq(query)"
   ]
  },
  {
   "cell_type": "code",
   "execution_count": 56,
   "metadata": {},
   "outputs": [
    {
     "data": {
      "text/html": [
       "Query job c22ca36a-7b19-448f-8930-c77e61637a9b is DONE. 50.3 MB processed. <a target=\"_blank\" href=\"https://console.cloud.google.com/bigquery?project=telefonica-425415&j=bq:us-central1:c22ca36a-7b19-448f-8930-c77e61637a9b&page=queryresults\">Open Job</a>"
      ],
      "text/plain": [
       "<IPython.core.display.HTML object>"
      ]
     },
     "metadata": {},
     "output_type": "display_data"
    },
    {
     "data": {
      "text/html": [
       "<div>\n",
       "<style scoped>\n",
       "    .dataframe tbody tr th:only-of-type {\n",
       "        vertical-align: middle;\n",
       "    }\n",
       "\n",
       "    .dataframe tbody tr th {\n",
       "        vertical-align: top;\n",
       "    }\n",
       "\n",
       "    .dataframe thead th {\n",
       "        text-align: right;\n",
       "    }\n",
       "</style>\n",
       "<table border=\"1\" class=\"dataframe\">\n",
       "  <thead>\n",
       "    <tr style=\"text-align: right;\">\n",
       "      <th></th>\n",
       "      <th>question_id</th>\n",
       "      <th>last_edit_date</th>\n",
       "      <th>full_text_md</th>\n",
       "      <th>text_chunk</th>\n",
       "      <th>chunk_id</th>\n",
       "      <th>embedding</th>\n",
       "    </tr>\n",
       "  </thead>\n",
       "  <tbody>\n",
       "    <tr>\n",
       "      <th>0</th>\n",
       "      <td>60632067</td>\n",
       "      <td>2020-03-11 08:54:18.573000+00:00</td>\n",
       "      <td># Grouping large sparse pandas dataframe with ...</td>\n",
       "      <td>## Answer 2:\n",
       "I know it is counter intuitive, b...</td>\n",
       "      <td>60632067__1</td>\n",
       "      <td>[ 4.45325635e-02 -2.12006224e-03 -1.10117095e-...</td>\n",
       "    </tr>\n",
       "    <tr>\n",
       "      <th>1</th>\n",
       "      <td>60642782</td>\n",
       "      <td>2020-03-11 19:00:57.297000+00:00</td>\n",
       "      <td># Convert list of strings to dictionary with d...</td>\n",
       "      <td># Convert list of strings to dictionary with d...</td>\n",
       "      <td>60642782__0</td>\n",
       "      <td>[-4.27742787e-02  2.68396158e-02 -4.72024195e-...</td>\n",
       "    </tr>\n",
       "    <tr>\n",
       "      <th>2</th>\n",
       "      <td>60609903</td>\n",
       "      <td>2020-03-10 00:05:12.067000+00:00</td>\n",
       "      <td># Actions on google's python SDK?\n",
       "I developed ...</td>\n",
       "      <td>* Users still invoke the Action with a phrase ...</td>\n",
       "      <td>60609903__6</td>\n",
       "      <td>[-0.02895528 -0.05027997  0.01360226  0.020402...</td>\n",
       "    </tr>\n",
       "    <tr>\n",
       "      <th>3</th>\n",
       "      <td>60620621</td>\n",
       "      <td>2020-03-10 15:31:49.447000+00:00</td>\n",
       "      <td># How do I make a QMenu scrollable and in the ...</td>\n",
       "      <td># How do I make a QMenu scrollable and in the ...</td>\n",
       "      <td>60620621__0</td>\n",
       "      <td>[-2.81032417e-02 -1.44482981e-02 -3.96099640e-...</td>\n",
       "    </tr>\n",
       "    <tr>\n",
       "      <th>4</th>\n",
       "      <td>60619911</td>\n",
       "      <td>2020-03-10 14:50:10.287000+00:00</td>\n",
       "      <td># How to append to a nested dictionary inside ...</td>\n",
       "      <td># How to append to a nested dictionary inside ...</td>\n",
       "      <td>60619911__0</td>\n",
       "      <td>[-0.02820105 -0.01916222 -0.03097743  0.027273...</td>\n",
       "    </tr>\n",
       "  </tbody>\n",
       "</table>\n",
       "<p>5 rows × 6 columns</p>\n",
       "</div>[5 rows x 6 columns in total]"
      ],
      "text/plain": [
       "   question_id                    last_edit_date  \\\n",
       "0     60632067  2020-03-11 08:54:18.573000+00:00   \n",
       "1     60642782  2020-03-11 19:00:57.297000+00:00   \n",
       "2     60609903  2020-03-10 00:05:12.067000+00:00   \n",
       "3     60620621  2020-03-10 15:31:49.447000+00:00   \n",
       "4     60619911  2020-03-10 14:50:10.287000+00:00   \n",
       "\n",
       "                                        full_text_md  \\\n",
       "0  # Grouping large sparse pandas dataframe with ...   \n",
       "1  # Convert list of strings to dictionary with d...   \n",
       "2  # Actions on google's python SDK?\n",
       "I developed ...   \n",
       "3  # How do I make a QMenu scrollable and in the ...   \n",
       "4  # How to append to a nested dictionary inside ...   \n",
       "\n",
       "                                          text_chunk     chunk_id  \\\n",
       "0  ## Answer 2:\n",
       "I know it is counter intuitive, b...  60632067__1   \n",
       "1  # Convert list of strings to dictionary with d...  60642782__0   \n",
       "2  * Users still invoke the Action with a phrase ...  60609903__6   \n",
       "3  # How do I make a QMenu scrollable and in the ...  60620621__0   \n",
       "4  # How to append to a nested dictionary inside ...  60619911__0   \n",
       "\n",
       "                                           embedding  \n",
       "0  [ 4.45325635e-02 -2.12006224e-03 -1.10117095e-...  \n",
       "1  [-4.27742787e-02  2.68396158e-02 -4.72024195e-...  \n",
       "2  [-0.02895528 -0.05027997  0.01360226  0.020402...  \n",
       "3  [-2.81032417e-02 -1.44482981e-02 -3.96099640e-...  \n",
       "4  [-0.02820105 -0.01916222 -0.03097743  0.027273...  \n",
       "\n",
       "[5 rows x 6 columns]"
      ]
     },
     "execution_count": 56,
     "metadata": {},
     "output_type": "execute_result"
    }
   ],
   "source": [
    "df.head()"
   ]
  },
  {
   "cell_type": "code",
   "execution_count": 57,
   "metadata": {},
   "outputs": [
    {
     "data": {
      "text/html": [
       "Query job ae6f891b-2b39-4788-81b4-e4f676bd7260 is DONE. 50.3 MB processed. <a target=\"_blank\" href=\"https://console.cloud.google.com/bigquery?project=telefonica-425415&j=bq:us-central1:ae6f891b-2b39-4788-81b4-e4f676bd7260&page=queryresults\">Open Job</a>"
      ],
      "text/plain": [
       "<IPython.core.display.HTML object>"
      ]
     },
     "metadata": {},
     "output_type": "display_data"
    },
    {
     "data": {
      "text/html": [
       "<div>\n",
       "<style scoped>\n",
       "    .dataframe tbody tr th:only-of-type {\n",
       "        vertical-align: middle;\n",
       "    }\n",
       "\n",
       "    .dataframe tbody tr th {\n",
       "        vertical-align: top;\n",
       "    }\n",
       "\n",
       "    .dataframe thead th {\n",
       "        text-align: right;\n",
       "    }\n",
       "</style>\n",
       "<table border=\"1\" class=\"dataframe\">\n",
       "  <thead>\n",
       "    <tr style=\"text-align: right;\">\n",
       "      <th></th>\n",
       "      <th>question_id</th>\n",
       "      <th>last_edit_date</th>\n",
       "      <th>full_text_md</th>\n",
       "      <th>text_chunk</th>\n",
       "      <th>chunk_id</th>\n",
       "      <th>embedding</th>\n",
       "    </tr>\n",
       "  </thead>\n",
       "  <tbody>\n",
       "    <tr>\n",
       "      <th>10</th>\n",
       "      <td>60624019</td>\n",
       "      <td>2020-03-10 23:00:36.023000+00:00</td>\n",
       "      <td># How to improve OCR with Pytesseract text rec...</td>\n",
       "      <td>Thank you.\n",
       "\n",
       "\n",
       "## Answer 1:\n",
       "You're on the right ...</td>\n",
       "      <td>60624019__1</td>\n",
       "      <td>[ 7.99501664e-04  1.85674690e-02  1.08291814e-...</td>\n",
       "    </tr>\n",
       "    <tr>\n",
       "      <th>11</th>\n",
       "      <td>60635764</td>\n",
       "      <td>2020-03-11 13:55:33.593000+00:00</td>\n",
       "      <td># How to run Anaconda Powershell commands with...</td>\n",
       "      <td>```\n",
       "python create_pretraining_data.py `\n",
       "  --in...</td>\n",
       "      <td>60635764__1</td>\n",
       "      <td>[-8.83122627e-03  6.31115809e-02 -3.64943556e-...</td>\n",
       "    </tr>\n",
       "    <tr>\n",
       "      <th>12</th>\n",
       "      <td>60628739</td>\n",
       "      <td>2020-03-11 03:14:54.703000+00:00</td>\n",
       "      <td># Passing Variables between Widgets Pyside2\n",
       "I'...</td>\n",
       "      <td>@QtCore.Slot(QtWidgets.QListWidgetItem)\n",
       "    de...</td>\n",
       "      <td>60628739__3</td>\n",
       "      <td>[-5.44261187e-02 -1.14799850e-02 -2.54020710e-...</td>\n",
       "    </tr>\n",
       "    <tr>\n",
       "      <th>13</th>\n",
       "      <td>60645596</td>\n",
       "      <td>2020-03-11 23:34:16.043000+00:00</td>\n",
       "      <td># python-docx style error with 'List Paragraph...</td>\n",
       "      <td># python-docx style error with 'List Paragraph...</td>\n",
       "      <td>60645596__0</td>\n",
       "      <td>[-3.04646371e-03  5.10847270e-02 -1.23001849e-...</td>\n",
       "    </tr>\n",
       "    <tr>\n",
       "      <th>14</th>\n",
       "      <td>60623203</td>\n",
       "      <td>2020-03-10 17:46:34.860000+00:00</td>\n",
       "      <td># Modal in flask displays only the first recor...</td>\n",
       "      <td>HTML block\n",
       "\n",
       "```\n",
       "{% extends \"base.html\" %}\n",
       "{% b...</td>\n",
       "      <td>60623203__1</td>\n",
       "      <td>[ 1.88332144e-02 -1.22848377e-02  8.18577316e-...</td>\n",
       "    </tr>\n",
       "    <tr>\n",
       "      <th>15</th>\n",
       "      <td>60633690</td>\n",
       "      <td>2020-03-12 08:54:49.333000+00:00</td>\n",
       "      <td># acc, loss, val_acc and val_loss are same in ...</td>\n",
       "      <td>genX2 = generator.flow_from_directory(dir2,\n",
       "  ...</td>\n",
       "      <td>60633690__4</td>\n",
       "      <td>[ 7.21412748e-02  4.65095683e-04 -2.63736886e-...</td>\n",
       "    </tr>\n",
       "    <tr>\n",
       "      <th>16</th>\n",
       "      <td>60611439</td>\n",
       "      <td>2020-03-10 04:10:20.663000+00:00</td>\n",
       "      <td># pandas: Why doesn't rolling work in this cas...</td>\n",
       "      <td># pandas: Why doesn't rolling work in this cas...</td>\n",
       "      <td>60611439__0</td>\n",
       "      <td>[ 4.47137728e-02 -8.40704422e-03 -1.40737724e-...</td>\n",
       "    </tr>\n",
       "    <tr>\n",
       "      <th>17</th>\n",
       "      <td>60615499</td>\n",
       "      <td>2020-03-10 10:29:25.760000+00:00</td>\n",
       "      <td># How to test if a double-clicked item is at t...</td>\n",
       "      <td>If for whatever reason, you want to detect ite...</td>\n",
       "      <td>60615499__1</td>\n",
       "      <td>[-3.49571332e-02 -2.03219838e-02  3.43636088e-...</td>\n",
       "    </tr>\n",
       "    <tr>\n",
       "      <th>18</th>\n",
       "      <td>60622320</td>\n",
       "      <td>2020-03-10 18:19:04.430000+00:00</td>\n",
       "      <td># multiprocessing.Process and asyncio loop com...</td>\n",
       "      <td># allow inheritance to child\n",
       "os.set_inheritabl...</td>\n",
       "      <td>60622320__2</td>\n",
       "      <td>[-5.55867143e-02 -6.25934498e-03 -2.54018661e-...</td>\n",
       "    </tr>\n",
       "    <tr>\n",
       "      <th>19</th>\n",
       "      <td>60612451</td>\n",
       "      <td>2020-03-10 06:26:09.890000+00:00</td>\n",
       "      <td># Code not terminating when user prompts to N\n",
       "...</td>\n",
       "      <td>```\n",
       "\n",
       "\n",
       "## Answer 1:\n",
       "Your issue is in the logic ...</td>\n",
       "      <td>60612451__2</td>\n",
       "      <td>[ 3.81400436e-03  3.14333923e-02  3.05920560e-...</td>\n",
       "    </tr>\n",
       "  </tbody>\n",
       "</table>\n",
       "<p>10 rows × 6 columns</p>\n",
       "</div>[10 rows x 6 columns in total]"
      ],
      "text/plain": [
       "    question_id                    last_edit_date  \\\n",
       "10     60624019  2020-03-10 23:00:36.023000+00:00   \n",
       "11     60635764  2020-03-11 13:55:33.593000+00:00   \n",
       "12     60628739  2020-03-11 03:14:54.703000+00:00   \n",
       "13     60645596  2020-03-11 23:34:16.043000+00:00   \n",
       "14     60623203  2020-03-10 17:46:34.860000+00:00   \n",
       "15     60633690  2020-03-12 08:54:49.333000+00:00   \n",
       "16     60611439  2020-03-10 04:10:20.663000+00:00   \n",
       "17     60615499  2020-03-10 10:29:25.760000+00:00   \n",
       "18     60622320  2020-03-10 18:19:04.430000+00:00   \n",
       "19     60612451  2020-03-10 06:26:09.890000+00:00   \n",
       "\n",
       "                                         full_text_md  \\\n",
       "10  # How to improve OCR with Pytesseract text rec...   \n",
       "11  # How to run Anaconda Powershell commands with...   \n",
       "12  # Passing Variables between Widgets Pyside2\n",
       "I'...   \n",
       "13  # python-docx style error with 'List Paragraph...   \n",
       "14  # Modal in flask displays only the first recor...   \n",
       "15  # acc, loss, val_acc and val_loss are same in ...   \n",
       "16  # pandas: Why doesn't rolling work in this cas...   \n",
       "17  # How to test if a double-clicked item is at t...   \n",
       "18  # multiprocessing.Process and asyncio loop com...   \n",
       "19  # Code not terminating when user prompts to N\n",
       "...   \n",
       "\n",
       "                                           text_chunk     chunk_id  \\\n",
       "10  Thank you.\n",
       "\n",
       "\n",
       "## Answer 1:\n",
       "You're on the right ...  60624019__1   \n",
       "11  ```\n",
       "python create_pretraining_data.py `\n",
       "  --in...  60635764__1   \n",
       "12  @QtCore.Slot(QtWidgets.QListWidgetItem)\n",
       "    de...  60628739__3   \n",
       "13  # python-docx style error with 'List Paragraph...  60645596__0   \n",
       "14  HTML block\n",
       "\n",
       "```\n",
       "{% extends \"base.html\" %}\n",
       "{% b...  60623203__1   \n",
       "15  genX2 = generator.flow_from_directory(dir2,\n",
       "  ...  60633690__4   \n",
       "16  # pandas: Why doesn't rolling work in this cas...  60611439__0   \n",
       "17  If for whatever reason, you want to detect ite...  60615499__1   \n",
       "18  # allow inheritance to child\n",
       "os.set_inheritabl...  60622320__2   \n",
       "19  ```\n",
       "\n",
       "\n",
       "## Answer 1:\n",
       "Your issue is in the logic ...  60612451__2   \n",
       "\n",
       "                                            embedding  \n",
       "10  [ 7.99501664e-04  1.85674690e-02  1.08291814e-...  \n",
       "11  [-8.83122627e-03  6.31115809e-02 -3.64943556e-...  \n",
       "12  [-5.44261187e-02 -1.14799850e-02 -2.54020710e-...  \n",
       "13  [-3.04646371e-03  5.10847270e-02 -1.23001849e-...  \n",
       "14  [ 1.88332144e-02 -1.22848377e-02  8.18577316e-...  \n",
       "15  [ 7.21412748e-02  4.65095683e-04 -2.63736886e-...  \n",
       "16  [ 4.47137728e-02 -8.40704422e-03 -1.40737724e-...  \n",
       "17  [-3.49571332e-02 -2.03219838e-02  3.43636088e-...  \n",
       "18  [-5.55867143e-02 -6.25934498e-03 -2.54018661e-...  \n",
       "19  [ 3.81400436e-03  3.14333923e-02  3.05920560e-...  \n",
       "\n",
       "[10 rows x 6 columns]"
      ]
     },
     "execution_count": 57,
     "metadata": {},
     "output_type": "execute_result"
    }
   ],
   "source": [
    "df.iloc[10:20]"
   ]
  },
  {
   "cell_type": "code",
   "execution_count": 17,
   "metadata": {},
   "outputs": [],
   "source": [
    "PROJECT_ID = \"telefonica-425415\"\n",
    "REGION = \"us-central1\"\n",
    "BUCKET = f\"{PROJECT_ID}-vector-search-data\"\n",
    "BUCKET_URI = f\"gs://{BUCKET}\"\n",
    "\n",
    "# The number of dimensions for the textembedding-gecko@003 is 768\n",
    "# If other embedder is used, the dimensions would probably need to change.\n",
    "DIMENSIONS = 768\n",
    "\n",
    "# Index Constants\n",
    "DISPLAY_NAME = \"sample_vector_search\"\n",
    "DEPLOYED_INDEX_ID = \"sample_vector_search_deployed\""
   ]
  },
  {
   "cell_type": "code",
   "execution_count": 18,
   "metadata": {},
   "outputs": [],
   "source": [
    "from google.cloud import aiplatform\n",
    "from langchain_google_vertexai import VertexAIEmbeddings"
   ]
  },
  {
   "cell_type": "code",
   "execution_count": 19,
   "metadata": {},
   "outputs": [],
   "source": [
    "aiplatform.init(project=PROJECT_ID, location=REGION, staging_bucket=BUCKET_URI)"
   ]
  },
  {
   "cell_type": "code",
   "execution_count": 20,
   "metadata": {},
   "outputs": [],
   "source": [
    "embedding_model = VertexAIEmbeddings(model_name=\"text-embedding-005\")"
   ]
  },
  {
   "cell_type": "code",
   "execution_count": 21,
   "metadata": {},
   "outputs": [],
   "source": [
    "# my_index = aiplatform.MatchingEngineIndex.create_tree_ah_index(\n",
    "#     display_name=DISPLAY_NAME,\n",
    "#     dimensions=DIMENSIONS,\n",
    "#     approximate_neighbors_count=150,\n",
    "#     distance_measure_type=\"DOT_PRODUCT_DISTANCE\",\n",
    "#     index_update_method=\"STREAM_UPDATE\",  # allowed values BATCH_UPDATE , STREAM_UPDATE\n",
    "# )"
   ]
  },
  {
   "cell_type": "code",
   "execution_count": 22,
   "metadata": {},
   "outputs": [],
   "source": [
    "# # Create an endpoint\n",
    "# my_index_endpoint = aiplatform.MatchingEngineIndexEndpoint.create(\n",
    "#     display_name=f\"{DISPLAY_NAME}-endpoint\", public_endpoint_enabled=True\n",
    "# )"
   ]
  },
  {
   "cell_type": "code",
   "execution_count": 23,
   "metadata": {},
   "outputs": [],
   "source": [
    "# # NOTE : This operation can take upto 20 minutes\n",
    "# my_index_endpoint = my_index_endpoint.deploy_index(\n",
    "#     index=my_index, deployed_index_id=DEPLOYED_INDEX_ID\n",
    "# )\n",
    "\n",
    "# my_index_endpoint.deployed_indexes"
   ]
  },
  {
   "cell_type": "code",
   "execution_count": 24,
   "metadata": {},
   "outputs": [],
   "source": [
    "# TODO : replace 1234567890123456789 with your acutial index ID\n",
    "my_index = aiplatform.MatchingEngineIndex(\"2697088828794994688\")\n",
    "\n",
    "# TODO : replace 1234567890123456789 with your acutial endpoint ID\n",
    "my_index_endpoint = aiplatform.MatchingEngineIndexEndpoint(\"5330498342155714560\")"
   ]
  },
  {
   "cell_type": "code",
   "execution_count": 25,
   "metadata": {},
   "outputs": [
    {
     "data": {
      "text/plain": [
       "'telefonica-425415-vector-search-data'"
      ]
     },
     "execution_count": 25,
     "metadata": {},
     "output_type": "execute_result"
    }
   ],
   "source": [
    "BUCKET"
   ]
  },
  {
   "cell_type": "code",
   "execution_count": 26,
   "metadata": {},
   "outputs": [],
   "source": [
    "from langchain_google_vertexai import VectorSearchVectorStore\n",
    "# Input texts\n",
    "texts = [\n",
    "    \"The cat sat on\",\n",
    "    \"the mat.\",\n",
    "    \"I like to\",\n",
    "    \"eat pizza for\",\n",
    "    \"dinner.\",\n",
    "    \"The sun sets\",\n",
    "    \"in the west.\",\n",
    "]\n",
    "\n",
    "# Create a Vector Store\n",
    "vector_store = VectorSearchVectorStore.from_components(\n",
    "    project_id=PROJECT_ID,\n",
    "    region=REGION,\n",
    "    gcs_bucket_name=BUCKET,\n",
    "    index_id=my_index.name,\n",
    "    endpoint_id=my_index_endpoint.name,\n",
    "    embedding=embedding_model,\n",
    "    stream_update=True,\n",
    ")\n",
    "\n",
    "# # Add vectors and mapped text chunks to your vectore store\n",
    "# vector_store.add_texts(texts=texts, ids=[str(x) for x in range(len(texts))])"
   ]
  },
  {
   "cell_type": "code",
   "execution_count": 31,
   "metadata": {},
   "outputs": [],
   "source": [
    "retriever = vector_store.as_retriever()"
   ]
  },
  {
   "cell_type": "code",
   "execution_count": 34,
   "metadata": {},
   "outputs": [
    {
     "name": "stdout",
     "output_type": "stream",
     "text": [
      "\u001b[0;31mSignature:\u001b[0m\n",
      "\u001b[0mretriever\u001b[0m\u001b[0;34m.\u001b[0m\u001b[0minvoke\u001b[0m\u001b[0;34m(\u001b[0m\u001b[0;34m\u001b[0m\n",
      "\u001b[0;34m\u001b[0m    \u001b[0minput\u001b[0m\u001b[0;34m:\u001b[0m \u001b[0;34m'str'\u001b[0m\u001b[0;34m,\u001b[0m\u001b[0;34m\u001b[0m\n",
      "\u001b[0;34m\u001b[0m    \u001b[0mconfig\u001b[0m\u001b[0;34m:\u001b[0m \u001b[0;34m'Optional[RunnableConfig]'\u001b[0m \u001b[0;34m=\u001b[0m \u001b[0;32mNone\u001b[0m\u001b[0;34m,\u001b[0m\u001b[0;34m\u001b[0m\n",
      "\u001b[0;34m\u001b[0m    \u001b[0;34m**\u001b[0m\u001b[0mkwargs\u001b[0m\u001b[0;34m:\u001b[0m \u001b[0;34m'Any'\u001b[0m\u001b[0;34m,\u001b[0m\u001b[0;34m\u001b[0m\n",
      "\u001b[0;34m\u001b[0m\u001b[0;34m)\u001b[0m \u001b[0;34m->\u001b[0m \u001b[0;34m'list[Document]'\u001b[0m\u001b[0;34m\u001b[0m\u001b[0;34m\u001b[0m\u001b[0m\n",
      "\u001b[0;31mSource:\u001b[0m   \n",
      "    \u001b[0;32mdef\u001b[0m \u001b[0minvoke\u001b[0m\u001b[0;34m(\u001b[0m\u001b[0;34m\u001b[0m\n",
      "\u001b[0;34m\u001b[0m        \u001b[0mself\u001b[0m\u001b[0;34m,\u001b[0m \u001b[0minput\u001b[0m\u001b[0;34m:\u001b[0m \u001b[0mstr\u001b[0m\u001b[0;34m,\u001b[0m \u001b[0mconfig\u001b[0m\u001b[0;34m:\u001b[0m \u001b[0mOptional\u001b[0m\u001b[0;34m[\u001b[0m\u001b[0mRunnableConfig\u001b[0m\u001b[0;34m]\u001b[0m \u001b[0;34m=\u001b[0m \u001b[0;32mNone\u001b[0m\u001b[0;34m,\u001b[0m \u001b[0;34m**\u001b[0m\u001b[0mkwargs\u001b[0m\u001b[0;34m:\u001b[0m \u001b[0mAny\u001b[0m\u001b[0;34m\u001b[0m\n",
      "\u001b[0;34m\u001b[0m    \u001b[0;34m)\u001b[0m \u001b[0;34m->\u001b[0m \u001b[0mlist\u001b[0m\u001b[0;34m[\u001b[0m\u001b[0mDocument\u001b[0m\u001b[0;34m]\u001b[0m\u001b[0;34m:\u001b[0m\u001b[0;34m\u001b[0m\n",
      "\u001b[0;34m\u001b[0m        \u001b[0;34m\"\"\"Invoke the retriever to get relevant documents.\u001b[0m\n",
      "\u001b[0;34m\u001b[0m\n",
      "\u001b[0;34m        Main entry point for synchronous retriever invocations.\u001b[0m\n",
      "\u001b[0;34m\u001b[0m\n",
      "\u001b[0;34m        Args:\u001b[0m\n",
      "\u001b[0;34m            input: The query string.\u001b[0m\n",
      "\u001b[0;34m            config: Configuration for the retriever. Defaults to None.\u001b[0m\n",
      "\u001b[0;34m            kwargs: Additional arguments to pass to the retriever.\u001b[0m\n",
      "\u001b[0;34m\u001b[0m\n",
      "\u001b[0;34m        Returns:\u001b[0m\n",
      "\u001b[0;34m            List of relevant documents.\u001b[0m\n",
      "\u001b[0;34m\u001b[0m\n",
      "\u001b[0;34m        Examples:\u001b[0m\n",
      "\u001b[0;34m\u001b[0m\n",
      "\u001b[0;34m        .. code-block:: python\u001b[0m\n",
      "\u001b[0;34m\u001b[0m\n",
      "\u001b[0;34m            retriever.invoke(\"query\")\u001b[0m\n",
      "\u001b[0;34m        \"\"\"\u001b[0m\u001b[0;34m\u001b[0m\n",
      "\u001b[0;34m\u001b[0m        \u001b[0;32mfrom\u001b[0m \u001b[0mlangchain_core\u001b[0m\u001b[0;34m.\u001b[0m\u001b[0mcallbacks\u001b[0m\u001b[0;34m.\u001b[0m\u001b[0mmanager\u001b[0m \u001b[0;32mimport\u001b[0m \u001b[0mCallbackManager\u001b[0m\u001b[0;34m\u001b[0m\n",
      "\u001b[0;34m\u001b[0m\u001b[0;34m\u001b[0m\n",
      "\u001b[0;34m\u001b[0m        \u001b[0mconfig\u001b[0m \u001b[0;34m=\u001b[0m \u001b[0mensure_config\u001b[0m\u001b[0;34m(\u001b[0m\u001b[0mconfig\u001b[0m\u001b[0;34m)\u001b[0m\u001b[0;34m\u001b[0m\n",
      "\u001b[0;34m\u001b[0m        \u001b[0minheritable_metadata\u001b[0m \u001b[0;34m=\u001b[0m \u001b[0;34m{\u001b[0m\u001b[0;34m\u001b[0m\n",
      "\u001b[0;34m\u001b[0m            \u001b[0;34m**\u001b[0m\u001b[0;34m(\u001b[0m\u001b[0mconfig\u001b[0m\u001b[0;34m.\u001b[0m\u001b[0mget\u001b[0m\u001b[0;34m(\u001b[0m\u001b[0;34m\"metadata\"\u001b[0m\u001b[0;34m)\u001b[0m \u001b[0;32mor\u001b[0m \u001b[0;34m{\u001b[0m\u001b[0;34m}\u001b[0m\u001b[0;34m)\u001b[0m\u001b[0;34m,\u001b[0m\u001b[0;34m\u001b[0m\n",
      "\u001b[0;34m\u001b[0m            \u001b[0;34m**\u001b[0m\u001b[0mself\u001b[0m\u001b[0;34m.\u001b[0m\u001b[0m_get_ls_params\u001b[0m\u001b[0;34m(\u001b[0m\u001b[0;34m**\u001b[0m\u001b[0mkwargs\u001b[0m\u001b[0;34m)\u001b[0m\u001b[0;34m,\u001b[0m\u001b[0;34m\u001b[0m\n",
      "\u001b[0;34m\u001b[0m        \u001b[0;34m}\u001b[0m\u001b[0;34m\u001b[0m\n",
      "\u001b[0;34m\u001b[0m        \u001b[0mcallback_manager\u001b[0m \u001b[0;34m=\u001b[0m \u001b[0mCallbackManager\u001b[0m\u001b[0;34m.\u001b[0m\u001b[0mconfigure\u001b[0m\u001b[0;34m(\u001b[0m\u001b[0;34m\u001b[0m\n",
      "\u001b[0;34m\u001b[0m            \u001b[0mconfig\u001b[0m\u001b[0;34m.\u001b[0m\u001b[0mget\u001b[0m\u001b[0;34m(\u001b[0m\u001b[0;34m\"callbacks\"\u001b[0m\u001b[0;34m)\u001b[0m\u001b[0;34m,\u001b[0m\u001b[0;34m\u001b[0m\n",
      "\u001b[0;34m\u001b[0m            \u001b[0;32mNone\u001b[0m\u001b[0;34m,\u001b[0m\u001b[0;34m\u001b[0m\n",
      "\u001b[0;34m\u001b[0m            \u001b[0mverbose\u001b[0m\u001b[0;34m=\u001b[0m\u001b[0mkwargs\u001b[0m\u001b[0;34m.\u001b[0m\u001b[0mget\u001b[0m\u001b[0;34m(\u001b[0m\u001b[0;34m\"verbose\"\u001b[0m\u001b[0;34m,\u001b[0m \u001b[0;32mFalse\u001b[0m\u001b[0;34m)\u001b[0m\u001b[0;34m,\u001b[0m\u001b[0;34m\u001b[0m\n",
      "\u001b[0;34m\u001b[0m            \u001b[0minheritable_tags\u001b[0m\u001b[0;34m=\u001b[0m\u001b[0mconfig\u001b[0m\u001b[0;34m.\u001b[0m\u001b[0mget\u001b[0m\u001b[0;34m(\u001b[0m\u001b[0;34m\"tags\"\u001b[0m\u001b[0;34m)\u001b[0m\u001b[0;34m,\u001b[0m\u001b[0;34m\u001b[0m\n",
      "\u001b[0;34m\u001b[0m            \u001b[0mlocal_tags\u001b[0m\u001b[0;34m=\u001b[0m\u001b[0mself\u001b[0m\u001b[0;34m.\u001b[0m\u001b[0mtags\u001b[0m\u001b[0;34m,\u001b[0m\u001b[0;34m\u001b[0m\n",
      "\u001b[0;34m\u001b[0m            \u001b[0minheritable_metadata\u001b[0m\u001b[0;34m=\u001b[0m\u001b[0minheritable_metadata\u001b[0m\u001b[0;34m,\u001b[0m\u001b[0;34m\u001b[0m\n",
      "\u001b[0;34m\u001b[0m            \u001b[0mlocal_metadata\u001b[0m\u001b[0;34m=\u001b[0m\u001b[0mself\u001b[0m\u001b[0;34m.\u001b[0m\u001b[0mmetadata\u001b[0m\u001b[0;34m,\u001b[0m\u001b[0;34m\u001b[0m\n",
      "\u001b[0;34m\u001b[0m        \u001b[0;34m)\u001b[0m\u001b[0;34m\u001b[0m\n",
      "\u001b[0;34m\u001b[0m        \u001b[0mrun_manager\u001b[0m \u001b[0;34m=\u001b[0m \u001b[0mcallback_manager\u001b[0m\u001b[0;34m.\u001b[0m\u001b[0mon_retriever_start\u001b[0m\u001b[0;34m(\u001b[0m\u001b[0;34m\u001b[0m\n",
      "\u001b[0;34m\u001b[0m            \u001b[0;32mNone\u001b[0m\u001b[0;34m,\u001b[0m\u001b[0;34m\u001b[0m\n",
      "\u001b[0;34m\u001b[0m            \u001b[0minput\u001b[0m\u001b[0;34m,\u001b[0m\u001b[0;34m\u001b[0m\n",
      "\u001b[0;34m\u001b[0m            \u001b[0mname\u001b[0m\u001b[0;34m=\u001b[0m\u001b[0mconfig\u001b[0m\u001b[0;34m.\u001b[0m\u001b[0mget\u001b[0m\u001b[0;34m(\u001b[0m\u001b[0;34m\"run_name\"\u001b[0m\u001b[0;34m)\u001b[0m \u001b[0;32mor\u001b[0m \u001b[0mself\u001b[0m\u001b[0;34m.\u001b[0m\u001b[0mget_name\u001b[0m\u001b[0;34m(\u001b[0m\u001b[0;34m)\u001b[0m\u001b[0;34m,\u001b[0m\u001b[0;34m\u001b[0m\n",
      "\u001b[0;34m\u001b[0m            \u001b[0mrun_id\u001b[0m\u001b[0;34m=\u001b[0m\u001b[0mkwargs\u001b[0m\u001b[0;34m.\u001b[0m\u001b[0mpop\u001b[0m\u001b[0;34m(\u001b[0m\u001b[0;34m\"run_id\"\u001b[0m\u001b[0;34m,\u001b[0m \u001b[0;32mNone\u001b[0m\u001b[0;34m)\u001b[0m\u001b[0;34m,\u001b[0m\u001b[0;34m\u001b[0m\n",
      "\u001b[0;34m\u001b[0m        \u001b[0;34m)\u001b[0m\u001b[0;34m\u001b[0m\n",
      "\u001b[0;34m\u001b[0m        \u001b[0;32mtry\u001b[0m\u001b[0;34m:\u001b[0m\u001b[0;34m\u001b[0m\n",
      "\u001b[0;34m\u001b[0m            \u001b[0m_kwargs\u001b[0m \u001b[0;34m=\u001b[0m \u001b[0mkwargs\u001b[0m \u001b[0;32mif\u001b[0m \u001b[0mself\u001b[0m\u001b[0;34m.\u001b[0m\u001b[0m_expects_other_args\u001b[0m \u001b[0;32melse\u001b[0m \u001b[0;34m{\u001b[0m\u001b[0;34m}\u001b[0m\u001b[0;34m\u001b[0m\n",
      "\u001b[0;34m\u001b[0m            \u001b[0;32mif\u001b[0m \u001b[0mself\u001b[0m\u001b[0;34m.\u001b[0m\u001b[0m_new_arg_supported\u001b[0m\u001b[0;34m:\u001b[0m\u001b[0;34m\u001b[0m\n",
      "\u001b[0;34m\u001b[0m                \u001b[0mresult\u001b[0m \u001b[0;34m=\u001b[0m \u001b[0mself\u001b[0m\u001b[0;34m.\u001b[0m\u001b[0m_get_relevant_documents\u001b[0m\u001b[0;34m(\u001b[0m\u001b[0;34m\u001b[0m\n",
      "\u001b[0;34m\u001b[0m                    \u001b[0minput\u001b[0m\u001b[0;34m,\u001b[0m \u001b[0mrun_manager\u001b[0m\u001b[0;34m=\u001b[0m\u001b[0mrun_manager\u001b[0m\u001b[0;34m,\u001b[0m \u001b[0;34m**\u001b[0m\u001b[0m_kwargs\u001b[0m\u001b[0;34m\u001b[0m\n",
      "\u001b[0;34m\u001b[0m                \u001b[0;34m)\u001b[0m\u001b[0;34m\u001b[0m\n",
      "\u001b[0;34m\u001b[0m            \u001b[0;32melse\u001b[0m\u001b[0;34m:\u001b[0m\u001b[0;34m\u001b[0m\n",
      "\u001b[0;34m\u001b[0m                \u001b[0mresult\u001b[0m \u001b[0;34m=\u001b[0m \u001b[0mself\u001b[0m\u001b[0;34m.\u001b[0m\u001b[0m_get_relevant_documents\u001b[0m\u001b[0;34m(\u001b[0m\u001b[0minput\u001b[0m\u001b[0;34m,\u001b[0m \u001b[0;34m**\u001b[0m\u001b[0m_kwargs\u001b[0m\u001b[0;34m)\u001b[0m\u001b[0;34m\u001b[0m\n",
      "\u001b[0;34m\u001b[0m        \u001b[0;32mexcept\u001b[0m \u001b[0mException\u001b[0m \u001b[0;32mas\u001b[0m \u001b[0me\u001b[0m\u001b[0;34m:\u001b[0m\u001b[0;34m\u001b[0m\n",
      "\u001b[0;34m\u001b[0m            \u001b[0mrun_manager\u001b[0m\u001b[0;34m.\u001b[0m\u001b[0mon_retriever_error\u001b[0m\u001b[0;34m(\u001b[0m\u001b[0me\u001b[0m\u001b[0;34m)\u001b[0m\u001b[0;34m\u001b[0m\n",
      "\u001b[0;34m\u001b[0m            \u001b[0;32mraise\u001b[0m\u001b[0;34m\u001b[0m\n",
      "\u001b[0;34m\u001b[0m        \u001b[0;32melse\u001b[0m\u001b[0;34m:\u001b[0m\u001b[0;34m\u001b[0m\n",
      "\u001b[0;34m\u001b[0m            \u001b[0mrun_manager\u001b[0m\u001b[0;34m.\u001b[0m\u001b[0mon_retriever_end\u001b[0m\u001b[0;34m(\u001b[0m\u001b[0;34m\u001b[0m\n",
      "\u001b[0;34m\u001b[0m                \u001b[0mresult\u001b[0m\u001b[0;34m,\u001b[0m\u001b[0;34m\u001b[0m\n",
      "\u001b[0;34m\u001b[0m            \u001b[0;34m)\u001b[0m\u001b[0;34m\u001b[0m\n",
      "\u001b[0;34m\u001b[0m            \u001b[0;32mreturn\u001b[0m \u001b[0mresult\u001b[0m\u001b[0;34m\u001b[0m\u001b[0;34m\u001b[0m\u001b[0m\n",
      "\u001b[0;31mFile:\u001b[0m      /Library/Frameworks/Python.framework/Versions/3.11/lib/python3.11/site-packages/langchain_core/retrievers.py\n",
      "\u001b[0;31mType:\u001b[0m      method"
     ]
    }
   ],
   "source": [
    "retriever.invoke??"
   ]
  },
  {
   "cell_type": "code",
   "execution_count": 27,
   "metadata": {},
   "outputs": [
    {
     "data": {
      "text/plain": [
       "[Document(metadata={'question_id': 60638628, 'full_text_md': '# Form adding new user missing 1 required positional argument in Django\\nI created a form to add a new user, but it throws an error `_wrapped_view() missing 1 required positional argument: \\'request\\'`.\\n\\nThis is the form:\\n\\n```\\nclass NewEmployee(UserCreationForm):\\n    first_name = forms.CharField(max_length=30)\\n    last_name = forms.CharField(max_length=30)\\n    email = forms.EmailField(max_length=254, help_text=\\'Required. Inform a valid email address.\\')\\n\\n    class Meta:\\n        model = User\\n        fields = (\\'username\\', \\'password1\\', \\'password2\\', \\'email\\', \\'first_name\\', \\'last_name\\')\\n\\n```\\n\\nAnd this is my view:\\n\\n```\\n@login_required(login_url=\\'./accounts/login/\\')\\ndef NewEmployee(request):\\n    if request.method == \\'POST\\':\\n        form = NewEmployee(request.POST)\\n        if form.is_valid():\\n            form.save()\\n            return redirect(\\'backend\\')\\n    else:\\n        form = NewEmployee()\\n    return render(request, \\'backend/new_employee.html\\', {\\'form\\': form})\\n\\n```\\n\\n**EDIT**\\n\\nThe traceback\\n\\n```\\nEnvironment:\\n\\n\\nRequest Method: GET\\nRequest URL: http://localhost:8000/dash/funcionario/novo/\\n\\nDjango Version: 3.0.3\\nPython Version: 3.8.1\\nInstalled Applications:\\n[\\'backend\\',\\n \\'frontend\\',\\n \\'widget_tweaks\\',\\n \\'django.contrib.admin\\',\\n \\'django.contrib.auth\\',\\n \\'django.contrib.contenttypes\\',\\n \\'django.contrib.sessions\\',\\n \\'django.contrib.messages\\',\\n \\'django.contrib.staticfiles\\']\\nInstalled Middleware:\\n[\\'django.middleware.locale.LocaleMiddleware\\',\\n \\'django.middleware.security.SecurityMiddleware\\',\\n \\'django.contrib.sessions.middleware.SessionMiddleware\\',\\n \\'django.middleware.common.CommonMiddleware\\',\\n \\'django.middleware.csrf.CsrfViewMiddleware\\',\\n \\'django.contrib.auth.middleware.AuthenticationMiddleware\\',\\n \\'django.contrib.messages.middleware.MessageMiddleware\\',\\n \\'django.middleware.clickjacking.XFrameOptionsMiddleware\\']\\n\\n\\n\\nTraceback (most recent call last):\\n  File \"C:\\\\Users\\\\Utilizador\\\\Envs\\\\navioenv\\\\lib\\\\site-packages\\\\django\\\\core\\\\handlers\\\\exception.py\", line 34, in inner\\n    response = get_response(request)\\n  File \"C:\\\\Users\\\\Utilizador\\\\Envs\\\\navioenv\\\\lib\\\\site-packages\\\\django\\\\core\\\\handlers\\\\base.py\", line 115, in _get_response\\n    response = self.process_exception_by_middleware(e, request)\\n  File \"C:\\\\Users\\\\Utilizador\\\\Envs\\\\navioenv\\\\lib\\\\site-packages\\\\django\\\\core\\\\handlers\\\\base.py\", line 113, in _get_response\\n    response = wrapped_callback(request, *callback_args, **callback_kwargs)\\n  File \"C:\\\\Users\\\\Utilizador\\\\Envs\\\\navioenv\\\\lib\\\\site-packages\\\\django\\\\contrib\\\\auth\\\\decorators.py\", line 21, in _wrapped_view\\n    return view_func(request, *args, **kwargs)\\n  File \"C:\\\\Users\\\\Utilizador\\\\Documents\\\\GitHub\\\\navio\\\\backend\\\\views.py\", line 36, in NewEmployee\\n    form = NewEmployee()\\n\\nException Type: TypeError at /dash/funcionario/novo/\\nException Value: _wrapped_view() missing 1 required positional argument: \\'request\\'\\n\\n```\\n', 'text_chunk': \"Django Version: 3.0.3\\nPython Version: 3.8.1\\nInstalled Applications:\\n['backend',\\n 'frontend',\\n 'widget_tweaks',\\n 'django.contrib.admin',\\n 'django.contrib.auth',\\n 'django.contrib.contenttypes',\\n 'django.contrib.sessions',\\n 'django.contrib.messages',\\n 'django.contrib.staticfiles']\\nInstalled Middleware:\\n['django.middleware.locale.LocaleMiddleware',\\n 'django.middleware.security.SecurityMiddleware',\\n 'django.contrib.sessions.middleware.SessionMiddleware',\\n 'django.middleware.common.CommonMiddleware',\\n 'django.middleware.csrf.CsrfViewMiddleware',\\n 'django.contrib.auth.middleware.AuthenticationMiddleware',\\n 'django.contrib.messages.middleware.MessageMiddleware',\\n 'django.middleware.clickjacking.XFrameOptionsMiddleware']\", 'chunk_id': '60638628__1'}, page_content=\"Django Version: 3.0.3\\nPython Version: 3.8.1\\nInstalled Applications:\\n['backend',\\n 'frontend',\\n 'widget_tweaks',\\n 'django.contrib.admin',\\n 'django.contrib.auth',\\n 'django.contrib.contenttypes',\\n 'django.contrib.sessions',\\n 'django.contrib.messages',\\n 'django.contrib.staticfiles']\\nInstalled Middleware:\\n['django.middleware.locale.LocaleMiddleware',\\n 'django.middleware.security.SecurityMiddleware',\\n 'django.contrib.sessions.middleware.SessionMiddleware',\\n 'django.middleware.common.CommonMiddleware',\\n 'django.middleware.csrf.CsrfViewMiddleware',\\n 'django.contrib.auth.middleware.AuthenticationMiddleware',\\n 'django.contrib.messages.middleware.MessageMiddleware',\\n 'django.middleware.clickjacking.XFrameOptionsMiddleware']\"),\n",
       " Document(metadata={'question_id': 60636203, 'full_text_md': '# Python NewsApiClient\\nI am trying to retrieve news using the GoogleNews API. When I search through my script, it often happens that I don\\'t find any articles. If I search manually, I often find a lot of articles. I know that the ads are limited to 30 days old articles (at least in the developer News API).\\n\\n```\\nfrom newsapi import NewsApiClient\\n\\ndef find_articles(lst_of_keywords):\\n    article_lst = [False] * 5\\n    keywords = []\\n    for keyword in lst_of_keywords:\\n        if keyword:\\n            keywords.append(keyword)\\n    print(keywords)\\n    api = NewsApiClient(api_key=API_KEY)\\n    all_articles = api.get_everything(q=\\' \\'.join(keywords),\\n                                      sort_by=\\'publishedAt\\',\\n                                      language=\\'de\\')\\n    print(all_articles)\\n    print(\\'Keywords:\\', \\', \\'.join(keywords), \\'\\\\n\\', \\'Total results: \\', str(all_articles[\\'totalResults\\']), \\'\\\\n\\')\\n    num_article = 0\\n    for article in all_articles[\\'articles\\']:\\n        print(article[\\'title\\'] + \\' - \\' + article[\\'source\\'][\\'name\\'])\\n        print(article[\\'url\\'])\\n        print(article[\\'content\\'], \\'\\\\n\\')\\n\\n        num_article += 1\\n        if num_article == 5:\\n            break\\nname = False\\n\\nfind_articles([\"HOWOGE Wohnungsbaugesellschaft mbH   Bau Wohnungen\"])\\n\\n```\\n\\nMy Results:\\n\\n```\\n[\\'HOWOGE Wohnungsbaugesellschaft mbH   Bau Wohnungen\\']\\n{\\'status\\': \\'ok\\', \\'totalResults\\': 0, \\'articles\\': []}\\nKeywords: HOWOGE Wohnungsbaugesellschaft mbH   Bau Wohnungen \\n Total results:  0 \\n\\n```\\n\\nWhen I check the news.google.com:\\n\\n[Screenshot\\\\_GoogleNews\\\\_Results](https://i.stack.imgur.com/AMpzl.png)\\n\\n\\n## Answer 1:\\nAfter check [these](https://github.com/News-API-gh/News-API-python/issues/6)1 [entries](https://github.com/mattlisiv/newsapi-python/issues/62)2 in Github, it seems no solution has been made.\\n\\nMy suggestion is:\\n\\n* Change the search terms by leaving *less* keyworks.\\n\\nI tried this request:\\n\\nURL: `http://newsapi.org/v2/everything?q=HOWOGE&apiKey=<YOUR_API_KEY>&language=de`\\n\\n> Search terms: **`HOWOGE`**\\n> \\n> language: **`de`**\\n\\nAnd I got these results:\\n\\n```\\n{\\n    \"status\": \"ok\",\\n    \"totalResults\": 2,\\n    \"articles\": [\\n        {\\n            \"source\": {\\n                \"id\": \"bild\",\\n                \"name\": \"Bild\"\\n            },\\n            \"author\": \"Bild.de\",\\n            \"title\": \"Investor fehlt - 1000 Wohnungen in Berlin in der Warteschleife\",\\n            \"description\": \"Die Genehmigungen liegen vor, der Generalunternehmer ist unter Vertrag, selbst die Namen der neuen Straßen stehen. Doch das Wichtigste fehlt: der Investor.\",\\n            \"url\": \"https://www.bild.de/regional/berlin/berlin-aktuell/investor-fehlt-1000-wohnungen-in-berlin-in-der-warteschleife-72304654.bild.html\",\\n            \"urlToImage\": \"https://images.bild.de/5f3043e4728dd70001396d5b/6d502ebc7a2f82d9f87de35b0c150aa2/1/1?w=1280\",\\n            \"publishedAt\": \"2020-08-10T13:23:03Z\",\\n            \"content\": \"Berlin Die Genehmigungen liegen vor, der Generalunternehmer ist unter Vertrag, selbst die Namen der drei neuen Straßen stehen bereits fest. Das Wichtigste aber fehlt: Der Investor für die mehr als 10… [+1460 chars]\"\\n        },\\n        {\\n            \"source\": {\\n                \"id\": \"bild\",\\n                \"name\": \"Bild\"\\n            },\\n            \"author\": \"Bild.de\",\\n            \"title\": \"Mit interaktiver Tabelle - In Berliner Schulen wird in den Ferien geschuftet\",\\n            \"description\": \"Klassenarbeiten in den Ferien, für Handwerker selbstverständlich! An 243 Berliner Schulen wird derzeit saniert und erweitert.Foto: Michael Hübner / nurfotos.de\",\\n            \"url\": \"https://www.bild.de/regional/berlin/berlin-aktuell/mit-interaktiver-tabelle-in-berliner-schulen-wird-derzeit-geschuftet-71969242.bild.html\",\\n            \"urlToImage\": \"https://images.bild.de/5f144438789c220001bc4f2b/1d98a2419bc2a53a3dc764fd67ae7bbf/1/1?w=1280\",\\n            \"publishedAt\": \"2020-07-20T05:24:14Z\",\\n            \"content\": \"Berlin Klassenarbeiten in den Ferien für Handwerker selbstverständlich! An 243 Berliner Schulen wird ohne Pause saniert und erweitert. Dächer, Fassaden, Fenster, Fußböden, Elektroleitungen, Sanitäran… [+4462 chars]\"\\n        }\\n    ]\\n}\\n\\n```', 'text_chunk': '```', 'chunk_id': '60636203__4'}, page_content='```'),\n",
       " Document(metadata={'question_id': 60625952, 'full_text_md': '# Find inflexion point of a numpy array curve\\nI have an image which I extract a profile line along the image diagonal, the profile integrates several lines on the 2 side of the diagonal so I obtain a smoothed profile line,\\n\\nNow I want to find out the inflection points on the curve representing the image line profile.\\n\\n[![Inflection Points Desired](https://i.stack.imgur.com/3p11q.png)](https://i.stack.imgur.com/3p11q.png)\\n\\nI have tried this approach, but it give me many points, and the location is not what I look for.\\n\\n[![enter image description here](https://i.stack.imgur.com/QqZM5.png)](https://i.stack.imgur.com/QqZM5.png)\\n\\n```\\nimport numpy as np\\nimport matplotlib.pyplot as plt\\n\\narr = profiles[:,0].astype(\"int16\")\\nd = np.diff(arr)\\ndd = np.diff(d)\\nplt.figure(figsize=(20,15))\\nplt.plot(np.arange(2047), d)\\nplt.plot(np.arange(2046), dd)\\nplt.plot(arr)\\n\\nfor i in range(2046):\\n    if (d[i] != 0) and (d[i] == dd[i]):\\n        plt.plot(i, arr[i], \\'o\\')\\n\\n```\\n\\nHere is the array:\\n\\n```\\n[124, 122, 118, 124, 119, 121, 123, 119, 120, 123, 123, 122, 122, 123, 123, 120, 121, 126, 122, 125, 124, 125, 125, 128, 125, 128, 128, 130, 128, 130, 131, 132, 131, 130, 129, 132, 132, 133, 131, 134, 133, 134, 132, 136, 133, 132, 138, 134, 137, 137, 140, 140, 139, 140, 141, 142, 140, 143, 141, 142, 141, 142, 147, 144, 145, 145, 146, 148, 145, 147, 147, 149, 149, 148, 154, 149, 149, 153, 151, 154, 156, 156, 157, 156, 156, 157, 158, 159, 158, 160, 161, 161, 163, 163, 167, 167, 164, 166, 168, 166, 167, 169, 169, 165, 169, 172, 170, 173, 175, 175, 174, 174, 177, 178, 180, 183, 184, 184, 185, 191, 190, 199, 197, 206, 215, 226, 239, 247, 268, 286, 306, 331, 363, 389, 426, 461, 501, 546, 593, 637, 686, 735, 791, 841, 898, 957, 1014, 1074, 1134, 1201, 1260, 1323, 1395, 1458, 1516, 1582, 1655, 1719, 1784, 1859, 1932, 1998, 2066, 2140, 2208, 2276, 2342, 2416, 2491, 2555, 2628, 2702, 2774, 2839, 2909, 2979, 3049, 3111, 3183, 3259, 3337, 3402, 3461, 3542, 3606, 3681, 3757, 3829, 3898, 3947, 4036, 4097, 4166, 4226, 4304, 4372, 4446, 4499, 4570, 4620, 4690, 4742, 4792, 4829, 4869, 4912, 4952, 4981, 5020, 5039, 5073, 5091, 5123, 5146, 5149, 5185, 5202, 5218, 5236, 5240, 5258, 5262, 5282, 5301, 5312, 5322, 5329, 5337, 5345, 5349, 5368, 5366, 5373, 5377, 5387, 5401, 5400, 5408, 5420, 5428, 5438, 5422, 5435, 5447, 5450, 5453, 5456, 5460, 5463, 5469, 5484, 5478, 5484, 5495, 5494, 5503, 5504, 5512, 5511, 5531, 5541, 5542, 5554, 5556, 5562, 5568, 5579, 5575, 5588, 5591, 5593, 5594, 5586, 5604, 5617, 5609, 5623, 5628, 5627, 5640, 5652, 5663, 5654, 5656, 5673, 5674, 5676, 5688, 5697, 5682, 5694, 5707, 5696, 5703, 5709, 5726, 5721, 5713, 5728, 5733, 5735, 5742, 5739, 5758, 5762, 5768, 5767, 5770, 5786, 5782, 5804, 5806, 5791, 5801, 5821, 5823, 5831, 5821, 5829, 5829, 5840, 5848, 5845, 5844, 5845, 5872, 5866, 5872, 5891, 5885, 5882, 5898, 5902, 5890, 5902, 5899, 5914, 5909, 5910, 5908, 5918, 5921, 5932, 5947, 5940, 5946, 5951, 5950, 5963, 5971, 5964, 5980, 5984, 5986, 5982, 5993, 6007, 6007, 6001, 6014, 6016, 6022, 6029, 6023, 6030, 6036, 6035, 6044, 6046, 6055, 6062, 6066, 6064, 6066, 6065, 6079, 6071, 6078, 6075, 6091, 6093, 6099, 6104, 6110, 6104, 6110, 6117, 6124, 6135, 6126, 6135, 6134, 6131, 6142, 6130, 6156, 6162, 6150, 6165, 6167, 6174, 6176, 6180, 6194, 6180, 6180, 6208, 6191, 6203, 6214, 6209, 6213, 6221, 6210, 6220, 6209, 6236, 6234, 6232, 6238, 6249, 6253, 6250, 6254, 6256, 6275, 6268, 6291, 6285, 6272, 6284, 6279, 6300, 6289, 6309, 6296, 6323, 6309, 6311, 6314, 6324, 6319, 6340, 6333, 6330, 6339, 6350, 6345, 6335, 6361, 6359, 6361, 6373, 6367, 6369, 6377, 6383, 6380, 6384, 6390, 6396, 6393, 6402, 6395, 6404, 6413, 6402, 6424, 6423, 6418, 6432, 6432, 6442, 6447, 6447, 6450, 6442, 6458, 6454, 6455, 6460, 6473, 6455, 6466, 6474, 6470, 6478, 6476, 6480, 6487, 6497, 6496, 6498, 6496, 6504, 6506, 6512, 6511, 6504, 6518, 6525, 6527, 6516, 6542, 6539, 6542, 6547, 6551, 6556, 6541, 6551, 6556, 6556, 6566, 6558, 6559, 6569, 6570, 6576, 6579, 6584, 6584, 6591, 6597, 6590, 6592, 6598, 6601, 6593, 6603, 6601, 6610, 6627, 6609, 6605, 6623, 6621, 6623, 6633, 6636, 6634, 6641, 6645, 6645, 6655, 6645, 6653, 6665, 6663, 6671, 6686, 6679, 6678, 6674, 6681, 6675, 6672, 6682, 6692, 6693, 6692, 6697, 6697, 6705, 6717, 6708, 6718, 6718, 6721, 6732, 6714, 6723, 6732, 6730, 6740, 6736, 6739, 6748, 6747, 6748, 6750, 6755, 6754, 6762, 6772, 6757, 6766, 6765, 6774, 6768, 6782, 6781, 6789, 6787, 6779, 6789, 6793, 6807, 6801, 6796, 6798, 6795, 6807, 6817, 6817, 6820, 6824, 6825, 6825, 6834, 6830, 6833, 6834, 6842, 6832, 6858, 6851, 6849, 6863, 6856, 6854, 6855, 6859, 6871, 6867, 6867, 6876, 6872, 6875, 6888, 6882, 6891, 6903, 6893, 6893, 6898, 6909, 6921, 6900, 6915, 6906, 6918, 6907, 6919, 6925, 6928, 6928, 6919, 6918, 6921, 6939, 6939, 6942, 6946, 6952, 6948, 6948, 6947, 6962, 6950, 6962, 6964, 6966, 6972, 6971, 6970, 6983, 6971, 6981, 6975, 6971, 6985, 6986, 6985, 6985, 7005, 6995, 7000, 7002, 7007, 7009, 7011, 7032, 7012, 7020, 7022, 7032, 7021, 7034, 7027, 7028, 7032, 7029, 7031, 7039, 7042, 7051, 7042, 7044, 7053, 7062, 7054, 7061, 7060, 7056, 7070, 7061, 7067, 7065, 7067, 7072, 7071, 7079, 7081, 7098, 7084, 7101, 7088, 7096, 7092, 7101, 7101, 7089, 7102, 7112, 7117, 7113, 7114, 7125, 7109, 7105, 7119, 7122, 7136, 7122, 7121, 7127, 7127, 7122, 7137, 7133, 7133, 7139, 7155, 7136, 7157, 7159, 7161, 7161, 7148, 7159, 7158, 7176, 7157, 7164, 7174, 7177, 7175, 7181, 7195, 7191, 7189, 7165, 7188, 7178, 7185, 7187, 7194, 7190, 7203, 7192, 7195, 7194, 7198, 7211, 7203, 7213, 7219, 7217, 7207, 7218, 7226, 7222, 7225, 7213, 7225, 7219, 7212, 7214, 7220, 7217, 7219, 7229, 7237, 7236, 7242, 7239, 7241, 7244, 7240, 7237, 7230, 7241, 7232, 7246, 7242, 7238, 7236, 7253, 7257, 7248, 7254, 7259, 7272, 7268, 7268, 7265, 7261, 7258, 7264, 7275, 7271, 7291, 7283, 7273, 7272, 7270, 7273, 7286, 7292, 7295, 7296, 7286, 7292, 7282, 7302, 7288, 7295, 7303, 7296, 7305, 7300, 7301, 7317, 7299, 7299, 7299, 7305, 7298, 7319, 7307, 7312, 7317, 7318, 7316, 7308, 7322, 7322, 7330, 7320, 7326, 7328, 7330, 7335, 7345, 7323, 7340, 7339, 7336, 7349, 7339, 7347, 7340, 7350, 7344, 7356, 7338, 7356, 7347, 7353, 7354, 7358, 7358, 7347, 7347, 7364, 7363, 7355, 7362, 7364, 7369, 7363, 7366, 7360, 7369, 7373, 7363, 7368, 7383, 7379, 7369, 7378, 7372, 7369, 7381, 7392, 7382, 7377, 7377, 7387, 7382, 7374, 7388, 7386, 7392, 7381, 7405, 7379, 7393, 7395, 7386, 7395, 7390, 7400, 7397, 7392, 7396, 7400, 7415, 7401, 7400, 7392, 7405, 7410, 7397, 7383, 7400, 7403, 7395, 7389, 7403, 7400, 7411, 7394, 7407, 7400, 7399, 7404, 7403, 7401, 7396, 7399, 7400, 7402, 7399, 7400, 7401, 7405, 7396, 7400, 7400, 7411, 7404, 7401, 7410, 7392, 7408, 7401, 7414, 7406, 7409, 7400, 7411, 7407, 7397, 7411, 7423, 7419, 7410, 7418, 7418, 7431, 7408, 7411, 7417, 7419, 7403, 7399, 7404, 7421, 7415, 7410, 7410, 7406, 7416, 7410, 7403, 7421, 7410, 7407, 7413, 7407, 7412, 7405, 7418, 7407, 7398, 7407, 7400, 7407, 7398, 7407, 7403, 7401, 7402, 7399, 7397, 7395, 7399, 7406, 7380, 7403, 7392, 7393, 7411, 7393, 7387, 7389, 7389, 7384, 7374, 7394, 7399, 7392, 7377, 7386, 7386, 7392, 7392, 7374, 7377, 7372, 7374, 7379, 7374, 7380, 7362, 7375, 7379, 7380, 7369, 7360, 7373, 7373, 7357, 7355, 7347, 7370, 7372, 7358, 7349, 7356, 7352, 7339, 7351, 7335, 7339, 7339, 7350, 7351, 7358, 7345, 7334, 7343, 7331, 7344, 7347, 7332, 7336, 7336, 7340, 7337, 7319, 7330, 7318, 7329, 7328, 7324, 7319, 7331, 7323, 7318, 7305, 7309, 7324, 7316, 7301, 7323, 7313, 7297, 7301, 7313, 7291, 7295, 7305, 7303, 7295, 7277, 7294, 7286, 7301, 7295, 7290, 7293, 7302, 7285, 7280, 7276, 7293, 7273, 7283, 7266, 7271, 7271, 7272, 7266, 7253, 7272, 7266, 7272, 7259, 7249, 7263, 7263, 7263, 7261, 7254, 7265, 7255, 7252, 7256, 7245, 7235, 7234, 7238, 7240, 7229, 7230, 7223, 7227, 7229, 7224, 7228, 7226, 7219, 7217, 7214, 7208, 7207, 7204, 7197, 7210, 7220, 7214, 7203, 7209, 7209, 7203, 7195, 7192, 7199, 7200, 7191, 7179, 7178, 7176, 7179, 7182, 7175, 7168, 7170, 7162, 7172, 7166, 7168, 7170, 7164, 7162, 7160, 7160, 7153, 7147, 7162, 7144, 7135, 7159, 7142, 7126, 7145, 7149, 7131, 7128, 7131, 7126, 7114, 7107, 7120, 7119, 7102, 7111, 7109, 7096, 7109, 7080, 7106, 7101, 7094, 7103, 7087, 7091, 7098, 7087, 7092, 7069, 7062, 7078, 7077, 7079, 7078, 7069, 7072, 7065, 7068, 7065, 7058, 7063, 7050, 7041, 7046, 7040, 7045, 7079, 7029, 7033, 7023, 7027, 7030, 7032, 7023, 7006, 7007, 6997, 7002, 6997, 7002, 6993, 7005, 7009, 7000, 6993, 6981, 6975, 6980, 6973, 6973, 6961, 6946, 6933, 6908, 6917, 6909, 6885, 6903, 6900, 6908, 6911, 6920, 6926, 6930, 6934, 6931, 6928, 6926, 6914, 6907, 6905, 6912, 6903, 6899, 6894, 6892, 6890, 6891, 6875, 6877, 6870, 6860, 6861, 6861, 6850, 6859, 6864, 6840, 6842, 6829, 6838, 6834, 6841, 6834, 6822, 6821, 6816, 6822, 6817, 6803, 6800, 6801, 6800, 6793, 6803, 6792, 6784, 6798, 6790, 6784, 6792, 6800, 6796, 6794, 6790, 6783, 6781, 6779, 6763, 6770, 6763, 6785, 6755, 6777, 6772, 6768, 6760, 6742, 6753, 6754, 6761, 6765, 6749, 6766, 6756, 6733, 6737, 6741, 6745, 6731, 6733, 6726, 6729, 6725, 6725, 6713, 6714, 6716, 6712, 6693, 6696, 6695, 6713, 6699, 6692, 6676, 6699, 6687, 6675, 6673, 6671, 6682, 6667, 6675, 6665, 6654, 6659, 6652, 6646, 6652, 6639, 6647, 6641, 6628, 6634, 6635, 6631, 6631, 6624, 6616, 6624, 6610, 6607, 6609, 6605, 6590, 6587, 6584, 6591, 6571, 6596, 6583, 6581, 6563, 6577, 6568, 6569, 6552, 6551, 6556, 6554, 6544, 6529, 6538, 6528, 6530, 6528, 6517, 6519, 6513, 6523, 6519, 6498, 6501, 6502, 6496, 6489, 6486, 6495, 6487, 6474, 6474, 6466, 6462, 6471, 6446, 6458, 6445, 6443, 6434, 6435, 6434, 6427, 6437, 6425, 6431, 6432, 6413, 6407, 6412, 6394, 6403, 6398, 6397, 6391, 6394, 6382, 6379, 6380, 6380, 6374, 6369, 6361, 6372, 6367, 6356, 6351, 6336, 6343, 6334, 6327, 6331, 6321, 6327, 6323, 6319, 6302, 6302, 6304, 6306, 6307, 6295, 6287, 6306, 6292, 6291, 6273, 6275, 6265, 6272, 6261, 6251, 6245, 6240, 6248, 6245, 6239, 6243, 6238, 6224, 6230, 6224, 6215, 6213, 6224, 6203, 6201, 6199, 6194, 6198, 6181, 6184, 6177, 6172, 6179, 6185, 6167, 6160, 6150, 6152, 6161, 6146, 6145, 6127, 6133, 6145, 6124, 6117, 6118, 6118, 6105, 6096, 6102, 6092, 6083, 6094, 6087, 6079, 6071, 6076, 6061, 6062, 6062, 6068, 6043, 6042, 6046, 6034, 6037, 6034, 6026, 6022, 6018, 6013, 6012, 6012, 5994, 5997, 6002, 5996, 5987, 5974, 5983, 5970, 5972, 5977, 5957, 5966, 5956, 5955, 5950, 5946, 5939, 5930, 5933, 5926, 5915, 5911, 5906, 5903, 5900, 5905, 5888, 5890, 5883, 5871, 5880, 5874, 5857, 5870, 5860, 5855, 5843, 5839, 5837, 5833, 5827, 5834, 5824, 5820, 5829, 5807, 5814, 5814, 5801, 5791, 5779, 5783, 5781, 5770, 5773, 5765, 5763, 5751, 5752, 5740, 5739, 5737, 5733, 5727, 5725, 5716, 5727, 5718, 5711, 5700, 5688, 5686, 5673, 5680, 5689, 5664, 5670, 5664, 5669, 5663, 5655, 5634, 5643, 5652, 5631, 5641, 5631, 5622, 5626, 5618, 5609, 5610, 5613, 5597, 5608, 5587, 5582, 5590, 5576, 5572, 5573, 5548, 5556, 5559, 5558, 5538, 5542, 5540, 5527, 5519, 5524, 5517, 5508, 5509, 5496, 5496, 5496, 5485, 5484, 5484, 5466, 5460, 5455, 5456, 5442, 5443, 5434, 5433, 5429, 5422, 5430, 5409, 5409, 5399, 5395, 5391, 5386, 5377, 5372, 5367, 5370, 5360, 5362, 5344, 5350, 5342, 5343, 5336, 5330, 5311, 5311, 5299, 5313, 5301, 5291, 5290, 5287, 5271, 5265, 5263, 5259, 5251, 5242, 5232, 5215, 5218, 5210, 5203, 5188, 5184, 5167, 5146, 5133, 5113, 5103, 5072, 5059, 5024, 5005, 4985, 4938, 4921, 4886, 4850, 4803, 4759, 4698, 4660, 4591, 4535, 4468, 4429, 4355, 4294, 4224, 4172, 4113, 4047, 3978, 3916, 3863, 3795, 3732, 3669, 3604, 3539, 3477, 3418, 3356, 3297, 3230, 3161, 3095, 3030, 2968, 2912, 2841, 2780, 2711, 2654, 2580, 2523, 2460, 2396, 2325, 2269, 2201, 2143, 2073, 2009, 1943, 1885, 1821, 1765, 1688, 1630, 1569, 1511, 1446, 1385, 1317, 1259, 1203, 1145, 1085, 1027, 968, 909, 854, 803, 749, 696, 652, 600, 556, 509, 471, 429, 394, 356, 327, 294, 270, 251, 233, 215, 208, 200, 196, 193, 190, 185, 182, 185, 183, 183, 177, 182, 180, 174, 178, 173, 173, 171, 172, 175, 170, 169, 168, 170, 169, 165, 166, 166, 162, 162, 166, 162, 160, 160, 155, 158, 161, 157, 156, 154, 159, 152, 155, 157, 155, 155, 154, 158, 152, 154, 154, 153, 152, 150, 148, 147, 148, 146, 148, 146, 146, 146, 143, 143, 144, 138, 141, 139, 142, 143, 139, 139, 141, 141, 133, 135, 135, 132, 133, 129, 129, 128, 127, 124, 123, 123, 120, 120, 117, 116, 112, 112, 115, 111, 110, 109, 106, 108, 104, 109, 107, 105, 103, 100, 103, 101, 99, 96, 106, 95, 94, 95, 93, 91, 90, 91, 87, 86, 89, 83, 82, 83, 83, 78, 80, 79, 77, 79, 74, 73, 76, 72, 70, 71, 71, 70, 72, 69, 65, 64, 64, 63, 64, 61, 60, 61, 59, 60, 56, 57, 56, 54, 52, 53, 52, 50, 49, 47, 48, 44, 47, 48, 45, 42, 42, 41, 43, 40, 39, 39, 37, 37, 35, 36, 34, 35, 33, 32, 31, 31, 29, 29, 26, 26, 28, 25, 24, 24, 24, 22, 21, 20, 19, 19, 18, 18, 16, 15, 16, 14, 13, 14, 12, 11, 11, 10, 9, 9, 9, 8, 6, 5, 5, 4, 3, 3, 2, 2, 2, 0, 0]\\n\\n```\\n\\nDo you have any idea how to retrieve the coordinates of the inflection points on the curve?\\n\\n\\n## Answer 1:\\nAccording to [this](https://en.wikipedia.org/wiki/Inflection_point), you are not looking for the inflection point. Anyway, here is a code that uses the first and second derivate, but before it has a smooth via savgol\\\\_filter (from scipy). I think this is the best approximation for your question.\\n\\n```\\nfrom scipy import signal\\nsmooth = signal.savgol_filter(arr, 55,3)\\ndxdy =  signal.savgol_filter(np.gradient(smooth),55,3)\\ndx2dy2 = signal.savgol_filter(np.gradient(dxdy),55,3)\\nplt.subplot(121)\\nplt.plot(smooth,\\'k\\')\\nplt.plot(np.where(dx2dy2==dx2dy2.min()),smooth[np.where(dx2dy2==dx2dy2.min())],\\'ro\\')\\nplt.subplot(122)\\nplt.plot(dxdy,\\'r\\',label=\\'first derivate\\')\\nplt.plot(dx2dy2,\\'b\\',label=\\'second derivate\\')\\nplt.legend()\\n\\n```\\n\\n[![Figure](https://i.stack.imgur.com/2Xmah.png)](https://i.stack.imgur.com/2Xmah.png)\\n\\n## Answer 2:\\nI think you\\'d get what you\\'re looking for if you could find a way to smooth the curve.', 'text_chunk': '```', 'chunk_id': '60625952__1'}, page_content='```'),\n",
       " Document(metadata={'question_id': 60623689, 'full_text_md': '# node-gyp - hash md5 was not found\\nI was recently trying to install Powerlevel9k and its fonts using Powerline Fonts. During the process I was trying to follow the steps to have the appropriate python version etc... Along the lines somewhere I think I completely messed up my whole local python - openssl set up (probably trying some pip command they were having me run). Now I realized I cannot even run npm i on any of my node or angular projects anymore either.\\n\\nI have tried looked everywhere and tried every fix I could find but nothing seems to work. I tried uninstalling and reinstalling python (latest version, 2.7, and 2.6) also tried switching to using pyenv and relinking python, tried uninstalling and reinstalling openssl using homebrew and pointing bashrc and pointing the compilers to the homebrew openssl, even tried uninstalling nvm and node and reinstalling everything.\\n\\nStill no luck.\\n\\n```\\n> node-gyp rebuild\\n\\nERROR:root:code for hash md5 was not found.\\nTraceback (most recent call last):\\n  File \"/usr/local/Cellar/python@2/2.7.16/Frameworks/Python.framework/Versions/2.7/lib/python2.7/hashlib.py\", line 147, in <module>\\n    globals()[__func_name] = __get_hash(__func_name)\\n  File \"/usr/local/Cellar/python@2/2.7.16/Frameworks/Python.framework/Versions/2.7/lib/python2.7/hashlib.py\", line 97, in __get_builtin_constructor\\n    raise ValueError(\\'unsupported hash type \\' + name)\\nValueError: unsupported hash type md5\\nERROR:root:code for hash sha1 was not found.\\nTraceback (most recent call last):\\n  File \"/usr/local/Cellar/python@2/2.7.16/Frameworks/Python.framework/Versions/2.7/lib/python2.7/hashlib.py\", line 147, in <module>\\n    globals()[__func_name] = __get_hash(__func_name)\\n  File \"/usr/local/Cellar/python@2/2.7.16/Frameworks/Python.framework/Versions/2.7/lib/python2.7/hashlib.py\", line 97, in __get_builtin_constructor\\n    raise ValueError(\\'unsupported hash type \\' + name)\\nValueError: unsupported hash type sha1\\nERROR:root:code for hash sha224 was not found.\\nTraceback (most recent call last):\\n  File \"/usr/local/Cellar/python@2/2.7.16/Frameworks/Python.framework/Versions/2.7/lib/python2.7/hashlib.py\", line 147, in <module>\\n    globals()[__func_name] = __get_hash(__func_name)\\n  File \"/usr/local/Cellar/python@2/2.7.16/Frameworks/Python.framework/Versions/2.7/lib/python2.7/hashlib.py\", line 97, in __get_builtin_constructor\\n    raise ValueError(\\'unsupported hash type \\' + name)\\nValueError: unsupported hash type sha224\\nERROR:root:code for hash sha256 was not found.\\nTraceback (most recent call last):\\n  File \"/usr/local/Cellar/python@2/2.7.16/Frameworks/Python.framework/Versions/2.7/lib/python2.7/hashlib.py\", line 147, in <module>\\n    globals()[__func_name] = __get_hash(__func_name)\\n  File \"/usr/local/Cellar/python@2/2.7.16/Frameworks/Python.framework/Versions/2.7/lib/python2.7/hashlib.py\", line 97, in __get_builtin_constructor\\n    raise ValueError(\\'unsupported hash type \\' + name)\\nValueError: unsupported hash type sha256\\nERROR:root:code for hash sha384 was not found.\\nTraceback (most recent call last):\\n  File \"/usr/local/Cellar/python@2/2.7.16/Frameworks/Python.framework/Versions/2.7/lib/python2.7/hashlib.py\", line 147, in <module>\\n    globals()[__func_name] = __get_hash(__func_name)\\n  File \"/usr/local/Cellar/python@2/2.7.16/Frameworks/Python.framework/Versions/2.7/lib/python2.7/hashlib.py\", line 97, in __get_builtin_constructor\\n    raise ValueError(\\'unsupported hash type \\' + name)\\nValueError: unsupported hash type sha384\\nERROR:root:code for hash sha512 was not found.\\nTraceback (most recent call last):\\n  File \"/usr/local/Cellar/python@2/2.7.16/Frameworks/Python.framework/Versions/2.7/lib/python2.7/hashlib.py\", line 147, in <module>\\n    globals()[__func_name] = __get_hash(__func_name)\\n  File \"/usr/local/Cellar/python@2/2.7.16/Frameworks/Python.framework/Versions/2.7/lib/python2.7/hashlib.py\", line 97, in __get_builtin_constructor\\n    raise ValueError(\\'unsupported hash type \\' + name)\\nValueError: unsupported hash type sha512\\nTraceback (most recent call last):\\n  File \"/Users/joellyounrajendram/.nvm/versions/node/v12.6.0/lib/node_modules/npm/node_modules/node-gyp/gyp/gyp_main.py\", line 16, in <module>\\n    sys.exit(gyp.script_main())\\n  File \"/Users/joellyounrajendram/.nvm/versions/node/v12.6.0/lib/node_modules/npm/node_modules/node-gyp/gyp/pylib/gyp/__init__.py\", line 545, in script_main\\n    return main(sys.argv[1:])\\n  File \"/Users/joellyounrajendram/.nvm/versions/node/v12.6.0/lib/node_modules/npm/node_modules/node-gyp/gyp/pylib/gyp/__init__.py\", line 538, in main\\n    return gyp_main(args)\\n  File \"/Users/joellyounrajendram/.nvm/versions/node/v12.6.0/lib/node_modules/npm/node_modules/node-gyp/gyp/pylib/gyp/__init__.py\", line 514, in gyp_main\\n    options.duplicate_basename_check)\\n  File \"/Users/joellyounrajendram/.nvm/versions/node/v12.6.0/lib/node_modules/npm/node_modules/node-gyp/gyp/pylib/gyp/__init__.py\", line 98, in Load\\n    generator.CalculateVariables(default_variables, params)\\n  File \"/Users/joellyounrajendram/.nvm/versions/node/v12.6.0/lib/node_modules/npm/node_modules/node-gyp/gyp/pylib/gyp/generator/make.py\", line 79, in CalculateVariables\\n    import gyp.generator.xcode as xcode_generator\\n  File \"/Users/joellyounrajendram/.nvm/versions/node/v12.6.0/lib/node_modules/npm/node_modules/node-gyp/gyp/pylib/gyp/generator/xcode.py\", line 7, in <module>\\n    import gyp.xcodeproj_file\\n  File \"/Users/joellyounrajendram/.nvm/versions/node/v12.6.0/lib/node_modules/npm/node_modules/node-gyp/gyp/pylib/gyp/xcodeproj_file.py\", line 152, in <module>\\n    _new_sha1 = hashlib.sha1\\nAttributeError: \\'module\\' object has no attribute \\'sha1\\'\\n\\n```\\n', 'text_chunk': '```', 'chunk_id': '60623689__5'}, page_content='```')]"
      ]
     },
     "execution_count": 27,
     "metadata": {},
     "output_type": "execute_result"
    }
   ],
   "source": [
    "vector_store.similarity_search(\"python\")"
   ]
  },
  {
   "cell_type": "code",
   "execution_count": null,
   "metadata": {},
   "outputs": [],
   "source": [
    "for batch_num, start in enumerate(range(0, len(df), batch_size)):\n",
    "    ids = df.iloc[start:start + batch_size].question_id.tolist()\n",
    "    texts = df.iloc[start:start + batch_size].text_chunk.tolist()\n",
    "    embeddings = df.iloc[start:start + batch_size].embedding.tolist()\n",
    "    metadatas = df.iloc[start:start + batch_size].drop(columns=[\"embedding\", \"last_edit_date\"]).to_dict(orient=\"records\")\n",
    "    vector_store.add_texts_with_embeddings(\n",
    "        ids=ids,\n",
    "        texts=texts,\n",
    "        embeddings=embeddings,\n",
    "        metadatas=metadatas[start:start + batch_size],\n",
    "        is_complete_overwrite=True\n",
    "    )\n",
    "    if batch_num > 0 and batch_num % 50 == 0:\n",
    "        time.sleep(60)\n"
   ]
  },
  {
   "cell_type": "code",
   "execution_count": 70,
   "metadata": {},
   "outputs": [
    {
     "data": {
      "text/plain": [
       "[Document(metadata={'question_id': 60636203, 'full_text_md': '# Python NewsApiClient\\nI am trying to retrieve news using the GoogleNews API. When I search through my script, it often happens that I don\\'t find any articles. If I search manually, I often find a lot of articles. I know that the ads are limited to 30 days old articles (at least in the developer News API).\\n\\n```\\nfrom newsapi import NewsApiClient\\n\\ndef find_articles(lst_of_keywords):\\n    article_lst = [False] * 5\\n    keywords = []\\n    for keyword in lst_of_keywords:\\n        if keyword:\\n            keywords.append(keyword)\\n    print(keywords)\\n    api = NewsApiClient(api_key=API_KEY)\\n    all_articles = api.get_everything(q=\\' \\'.join(keywords),\\n                                      sort_by=\\'publishedAt\\',\\n                                      language=\\'de\\')\\n    print(all_articles)\\n    print(\\'Keywords:\\', \\', \\'.join(keywords), \\'\\\\n\\', \\'Total results: \\', str(all_articles[\\'totalResults\\']), \\'\\\\n\\')\\n    num_article = 0\\n    for article in all_articles[\\'articles\\']:\\n        print(article[\\'title\\'] + \\' - \\' + article[\\'source\\'][\\'name\\'])\\n        print(article[\\'url\\'])\\n        print(article[\\'content\\'], \\'\\\\n\\')\\n\\n        num_article += 1\\n        if num_article == 5:\\n            break\\nname = False\\n\\nfind_articles([\"HOWOGE Wohnungsbaugesellschaft mbH   Bau Wohnungen\"])\\n\\n```\\n\\nMy Results:\\n\\n```\\n[\\'HOWOGE Wohnungsbaugesellschaft mbH   Bau Wohnungen\\']\\n{\\'status\\': \\'ok\\', \\'totalResults\\': 0, \\'articles\\': []}\\nKeywords: HOWOGE Wohnungsbaugesellschaft mbH   Bau Wohnungen \\n Total results:  0 \\n\\n```\\n\\nWhen I check the news.google.com:\\n\\n[Screenshot\\\\_GoogleNews\\\\_Results](https://i.stack.imgur.com/AMpzl.png)\\n\\n\\n## Answer 1:\\nAfter check [these](https://github.com/News-API-gh/News-API-python/issues/6)1 [entries](https://github.com/mattlisiv/newsapi-python/issues/62)2 in Github, it seems no solution has been made.\\n\\nMy suggestion is:\\n\\n* Change the search terms by leaving *less* keyworks.\\n\\nI tried this request:\\n\\nURL: `http://newsapi.org/v2/everything?q=HOWOGE&apiKey=<YOUR_API_KEY>&language=de`\\n\\n> Search terms: **`HOWOGE`**\\n> \\n> language: **`de`**\\n\\nAnd I got these results:\\n\\n```\\n{\\n    \"status\": \"ok\",\\n    \"totalResults\": 2,\\n    \"articles\": [\\n        {\\n            \"source\": {\\n                \"id\": \"bild\",\\n                \"name\": \"Bild\"\\n            },\\n            \"author\": \"Bild.de\",\\n            \"title\": \"Investor fehlt - 1000 Wohnungen in Berlin in der Warteschleife\",\\n            \"description\": \"Die Genehmigungen liegen vor, der Generalunternehmer ist unter Vertrag, selbst die Namen der neuen Straßen stehen. Doch das Wichtigste fehlt: der Investor.\",\\n            \"url\": \"https://www.bild.de/regional/berlin/berlin-aktuell/investor-fehlt-1000-wohnungen-in-berlin-in-der-warteschleife-72304654.bild.html\",\\n            \"urlToImage\": \"https://images.bild.de/5f3043e4728dd70001396d5b/6d502ebc7a2f82d9f87de35b0c150aa2/1/1?w=1280\",\\n            \"publishedAt\": \"2020-08-10T13:23:03Z\",\\n            \"content\": \"Berlin Die Genehmigungen liegen vor, der Generalunternehmer ist unter Vertrag, selbst die Namen der drei neuen Straßen stehen bereits fest. Das Wichtigste aber fehlt: Der Investor für die mehr als 10… [+1460 chars]\"\\n        },\\n        {\\n            \"source\": {\\n                \"id\": \"bild\",\\n                \"name\": \"Bild\"\\n            },\\n            \"author\": \"Bild.de\",\\n            \"title\": \"Mit interaktiver Tabelle - In Berliner Schulen wird in den Ferien geschuftet\",\\n            \"description\": \"Klassenarbeiten in den Ferien, für Handwerker selbstverständlich! An 243 Berliner Schulen wird derzeit saniert und erweitert.Foto: Michael Hübner / nurfotos.de\",\\n            \"url\": \"https://www.bild.de/regional/berlin/berlin-aktuell/mit-interaktiver-tabelle-in-berliner-schulen-wird-derzeit-geschuftet-71969242.bild.html\",\\n            \"urlToImage\": \"https://images.bild.de/5f144438789c220001bc4f2b/1d98a2419bc2a53a3dc764fd67ae7bbf/1/1?w=1280\",\\n            \"publishedAt\": \"2020-07-20T05:24:14Z\",\\n            \"content\": \"Berlin Klassenarbeiten in den Ferien für Handwerker selbstverständlich! An 243 Berliner Schulen wird ohne Pause saniert und erweitert. Dächer, Fassaden, Fenster, Fußböden, Elektroleitungen, Sanitäran… [+4462 chars]\"\\n        }\\n    ]\\n}\\n\\n```', 'text_chunk': '```', 'chunk_id': '60636203__4'}, page_content='```'),\n",
       " Document(metadata={'question_id': 60625952, 'full_text_md': '# Find inflexion point of a numpy array curve\\nI have an image which I extract a profile line along the image diagonal, the profile integrates several lines on the 2 side of the diagonal so I obtain a smoothed profile line,\\n\\nNow I want to find out the inflection points on the curve representing the image line profile.\\n\\n[![Inflection Points Desired](https://i.stack.imgur.com/3p11q.png)](https://i.stack.imgur.com/3p11q.png)\\n\\nI have tried this approach, but it give me many points, and the location is not what I look for.\\n\\n[![enter image description here](https://i.stack.imgur.com/QqZM5.png)](https://i.stack.imgur.com/QqZM5.png)\\n\\n```\\nimport numpy as np\\nimport matplotlib.pyplot as plt\\n\\narr = profiles[:,0].astype(\"int16\")\\nd = np.diff(arr)\\ndd = np.diff(d)\\nplt.figure(figsize=(20,15))\\nplt.plot(np.arange(2047), d)\\nplt.plot(np.arange(2046), dd)\\nplt.plot(arr)\\n\\nfor i in range(2046):\\n    if (d[i] != 0) and (d[i] == dd[i]):\\n        plt.plot(i, arr[i], \\'o\\')\\n\\n```\\n\\nHere is the array:\\n\\n```\\n[124, 122, 118, 124, 119, 121, 123, 119, 120, 123, 123, 122, 122, 123, 123, 120, 121, 126, 122, 125, 124, 125, 125, 128, 125, 128, 128, 130, 128, 130, 131, 132, 131, 130, 129, 132, 132, 133, 131, 134, 133, 134, 132, 136, 133, 132, 138, 134, 137, 137, 140, 140, 139, 140, 141, 142, 140, 143, 141, 142, 141, 142, 147, 144, 145, 145, 146, 148, 145, 147, 147, 149, 149, 148, 154, 149, 149, 153, 151, 154, 156, 156, 157, 156, 156, 157, 158, 159, 158, 160, 161, 161, 163, 163, 167, 167, 164, 166, 168, 166, 167, 169, 169, 165, 169, 172, 170, 173, 175, 175, 174, 174, 177, 178, 180, 183, 184, 184, 185, 191, 190, 199, 197, 206, 215, 226, 239, 247, 268, 286, 306, 331, 363, 389, 426, 461, 501, 546, 593, 637, 686, 735, 791, 841, 898, 957, 1014, 1074, 1134, 1201, 1260, 1323, 1395, 1458, 1516, 1582, 1655, 1719, 1784, 1859, 1932, 1998, 2066, 2140, 2208, 2276, 2342, 2416, 2491, 2555, 2628, 2702, 2774, 2839, 2909, 2979, 3049, 3111, 3183, 3259, 3337, 3402, 3461, 3542, 3606, 3681, 3757, 3829, 3898, 3947, 4036, 4097, 4166, 4226, 4304, 4372, 4446, 4499, 4570, 4620, 4690, 4742, 4792, 4829, 4869, 4912, 4952, 4981, 5020, 5039, 5073, 5091, 5123, 5146, 5149, 5185, 5202, 5218, 5236, 5240, 5258, 5262, 5282, 5301, 5312, 5322, 5329, 5337, 5345, 5349, 5368, 5366, 5373, 5377, 5387, 5401, 5400, 5408, 5420, 5428, 5438, 5422, 5435, 5447, 5450, 5453, 5456, 5460, 5463, 5469, 5484, 5478, 5484, 5495, 5494, 5503, 5504, 5512, 5511, 5531, 5541, 5542, 5554, 5556, 5562, 5568, 5579, 5575, 5588, 5591, 5593, 5594, 5586, 5604, 5617, 5609, 5623, 5628, 5627, 5640, 5652, 5663, 5654, 5656, 5673, 5674, 5676, 5688, 5697, 5682, 5694, 5707, 5696, 5703, 5709, 5726, 5721, 5713, 5728, 5733, 5735, 5742, 5739, 5758, 5762, 5768, 5767, 5770, 5786, 5782, 5804, 5806, 5791, 5801, 5821, 5823, 5831, 5821, 5829, 5829, 5840, 5848, 5845, 5844, 5845, 5872, 5866, 5872, 5891, 5885, 5882, 5898, 5902, 5890, 5902, 5899, 5914, 5909, 5910, 5908, 5918, 5921, 5932, 5947, 5940, 5946, 5951, 5950, 5963, 5971, 5964, 5980, 5984, 5986, 5982, 5993, 6007, 6007, 6001, 6014, 6016, 6022, 6029, 6023, 6030, 6036, 6035, 6044, 6046, 6055, 6062, 6066, 6064, 6066, 6065, 6079, 6071, 6078, 6075, 6091, 6093, 6099, 6104, 6110, 6104, 6110, 6117, 6124, 6135, 6126, 6135, 6134, 6131, 6142, 6130, 6156, 6162, 6150, 6165, 6167, 6174, 6176, 6180, 6194, 6180, 6180, 6208, 6191, 6203, 6214, 6209, 6213, 6221, 6210, 6220, 6209, 6236, 6234, 6232, 6238, 6249, 6253, 6250, 6254, 6256, 6275, 6268, 6291, 6285, 6272, 6284, 6279, 6300, 6289, 6309, 6296, 6323, 6309, 6311, 6314, 6324, 6319, 6340, 6333, 6330, 6339, 6350, 6345, 6335, 6361, 6359, 6361, 6373, 6367, 6369, 6377, 6383, 6380, 6384, 6390, 6396, 6393, 6402, 6395, 6404, 6413, 6402, 6424, 6423, 6418, 6432, 6432, 6442, 6447, 6447, 6450, 6442, 6458, 6454, 6455, 6460, 6473, 6455, 6466, 6474, 6470, 6478, 6476, 6480, 6487, 6497, 6496, 6498, 6496, 6504, 6506, 6512, 6511, 6504, 6518, 6525, 6527, 6516, 6542, 6539, 6542, 6547, 6551, 6556, 6541, 6551, 6556, 6556, 6566, 6558, 6559, 6569, 6570, 6576, 6579, 6584, 6584, 6591, 6597, 6590, 6592, 6598, 6601, 6593, 6603, 6601, 6610, 6627, 6609, 6605, 6623, 6621, 6623, 6633, 6636, 6634, 6641, 6645, 6645, 6655, 6645, 6653, 6665, 6663, 6671, 6686, 6679, 6678, 6674, 6681, 6675, 6672, 6682, 6692, 6693, 6692, 6697, 6697, 6705, 6717, 6708, 6718, 6718, 6721, 6732, 6714, 6723, 6732, 6730, 6740, 6736, 6739, 6748, 6747, 6748, 6750, 6755, 6754, 6762, 6772, 6757, 6766, 6765, 6774, 6768, 6782, 6781, 6789, 6787, 6779, 6789, 6793, 6807, 6801, 6796, 6798, 6795, 6807, 6817, 6817, 6820, 6824, 6825, 6825, 6834, 6830, 6833, 6834, 6842, 6832, 6858, 6851, 6849, 6863, 6856, 6854, 6855, 6859, 6871, 6867, 6867, 6876, 6872, 6875, 6888, 6882, 6891, 6903, 6893, 6893, 6898, 6909, 6921, 6900, 6915, 6906, 6918, 6907, 6919, 6925, 6928, 6928, 6919, 6918, 6921, 6939, 6939, 6942, 6946, 6952, 6948, 6948, 6947, 6962, 6950, 6962, 6964, 6966, 6972, 6971, 6970, 6983, 6971, 6981, 6975, 6971, 6985, 6986, 6985, 6985, 7005, 6995, 7000, 7002, 7007, 7009, 7011, 7032, 7012, 7020, 7022, 7032, 7021, 7034, 7027, 7028, 7032, 7029, 7031, 7039, 7042, 7051, 7042, 7044, 7053, 7062, 7054, 7061, 7060, 7056, 7070, 7061, 7067, 7065, 7067, 7072, 7071, 7079, 7081, 7098, 7084, 7101, 7088, 7096, 7092, 7101, 7101, 7089, 7102, 7112, 7117, 7113, 7114, 7125, 7109, 7105, 7119, 7122, 7136, 7122, 7121, 7127, 7127, 7122, 7137, 7133, 7133, 7139, 7155, 7136, 7157, 7159, 7161, 7161, 7148, 7159, 7158, 7176, 7157, 7164, 7174, 7177, 7175, 7181, 7195, 7191, 7189, 7165, 7188, 7178, 7185, 7187, 7194, 7190, 7203, 7192, 7195, 7194, 7198, 7211, 7203, 7213, 7219, 7217, 7207, 7218, 7226, 7222, 7225, 7213, 7225, 7219, 7212, 7214, 7220, 7217, 7219, 7229, 7237, 7236, 7242, 7239, 7241, 7244, 7240, 7237, 7230, 7241, 7232, 7246, 7242, 7238, 7236, 7253, 7257, 7248, 7254, 7259, 7272, 7268, 7268, 7265, 7261, 7258, 7264, 7275, 7271, 7291, 7283, 7273, 7272, 7270, 7273, 7286, 7292, 7295, 7296, 7286, 7292, 7282, 7302, 7288, 7295, 7303, 7296, 7305, 7300, 7301, 7317, 7299, 7299, 7299, 7305, 7298, 7319, 7307, 7312, 7317, 7318, 7316, 7308, 7322, 7322, 7330, 7320, 7326, 7328, 7330, 7335, 7345, 7323, 7340, 7339, 7336, 7349, 7339, 7347, 7340, 7350, 7344, 7356, 7338, 7356, 7347, 7353, 7354, 7358, 7358, 7347, 7347, 7364, 7363, 7355, 7362, 7364, 7369, 7363, 7366, 7360, 7369, 7373, 7363, 7368, 7383, 7379, 7369, 7378, 7372, 7369, 7381, 7392, 7382, 7377, 7377, 7387, 7382, 7374, 7388, 7386, 7392, 7381, 7405, 7379, 7393, 7395, 7386, 7395, 7390, 7400, 7397, 7392, 7396, 7400, 7415, 7401, 7400, 7392, 7405, 7410, 7397, 7383, 7400, 7403, 7395, 7389, 7403, 7400, 7411, 7394, 7407, 7400, 7399, 7404, 7403, 7401, 7396, 7399, 7400, 7402, 7399, 7400, 7401, 7405, 7396, 7400, 7400, 7411, 7404, 7401, 7410, 7392, 7408, 7401, 7414, 7406, 7409, 7400, 7411, 7407, 7397, 7411, 7423, 7419, 7410, 7418, 7418, 7431, 7408, 7411, 7417, 7419, 7403, 7399, 7404, 7421, 7415, 7410, 7410, 7406, 7416, 7410, 7403, 7421, 7410, 7407, 7413, 7407, 7412, 7405, 7418, 7407, 7398, 7407, 7400, 7407, 7398, 7407, 7403, 7401, 7402, 7399, 7397, 7395, 7399, 7406, 7380, 7403, 7392, 7393, 7411, 7393, 7387, 7389, 7389, 7384, 7374, 7394, 7399, 7392, 7377, 7386, 7386, 7392, 7392, 7374, 7377, 7372, 7374, 7379, 7374, 7380, 7362, 7375, 7379, 7380, 7369, 7360, 7373, 7373, 7357, 7355, 7347, 7370, 7372, 7358, 7349, 7356, 7352, 7339, 7351, 7335, 7339, 7339, 7350, 7351, 7358, 7345, 7334, 7343, 7331, 7344, 7347, 7332, 7336, 7336, 7340, 7337, 7319, 7330, 7318, 7329, 7328, 7324, 7319, 7331, 7323, 7318, 7305, 7309, 7324, 7316, 7301, 7323, 7313, 7297, 7301, 7313, 7291, 7295, 7305, 7303, 7295, 7277, 7294, 7286, 7301, 7295, 7290, 7293, 7302, 7285, 7280, 7276, 7293, 7273, 7283, 7266, 7271, 7271, 7272, 7266, 7253, 7272, 7266, 7272, 7259, 7249, 7263, 7263, 7263, 7261, 7254, 7265, 7255, 7252, 7256, 7245, 7235, 7234, 7238, 7240, 7229, 7230, 7223, 7227, 7229, 7224, 7228, 7226, 7219, 7217, 7214, 7208, 7207, 7204, 7197, 7210, 7220, 7214, 7203, 7209, 7209, 7203, 7195, 7192, 7199, 7200, 7191, 7179, 7178, 7176, 7179, 7182, 7175, 7168, 7170, 7162, 7172, 7166, 7168, 7170, 7164, 7162, 7160, 7160, 7153, 7147, 7162, 7144, 7135, 7159, 7142, 7126, 7145, 7149, 7131, 7128, 7131, 7126, 7114, 7107, 7120, 7119, 7102, 7111, 7109, 7096, 7109, 7080, 7106, 7101, 7094, 7103, 7087, 7091, 7098, 7087, 7092, 7069, 7062, 7078, 7077, 7079, 7078, 7069, 7072, 7065, 7068, 7065, 7058, 7063, 7050, 7041, 7046, 7040, 7045, 7079, 7029, 7033, 7023, 7027, 7030, 7032, 7023, 7006, 7007, 6997, 7002, 6997, 7002, 6993, 7005, 7009, 7000, 6993, 6981, 6975, 6980, 6973, 6973, 6961, 6946, 6933, 6908, 6917, 6909, 6885, 6903, 6900, 6908, 6911, 6920, 6926, 6930, 6934, 6931, 6928, 6926, 6914, 6907, 6905, 6912, 6903, 6899, 6894, 6892, 6890, 6891, 6875, 6877, 6870, 6860, 6861, 6861, 6850, 6859, 6864, 6840, 6842, 6829, 6838, 6834, 6841, 6834, 6822, 6821, 6816, 6822, 6817, 6803, 6800, 6801, 6800, 6793, 6803, 6792, 6784, 6798, 6790, 6784, 6792, 6800, 6796, 6794, 6790, 6783, 6781, 6779, 6763, 6770, 6763, 6785, 6755, 6777, 6772, 6768, 6760, 6742, 6753, 6754, 6761, 6765, 6749, 6766, 6756, 6733, 6737, 6741, 6745, 6731, 6733, 6726, 6729, 6725, 6725, 6713, 6714, 6716, 6712, 6693, 6696, 6695, 6713, 6699, 6692, 6676, 6699, 6687, 6675, 6673, 6671, 6682, 6667, 6675, 6665, 6654, 6659, 6652, 6646, 6652, 6639, 6647, 6641, 6628, 6634, 6635, 6631, 6631, 6624, 6616, 6624, 6610, 6607, 6609, 6605, 6590, 6587, 6584, 6591, 6571, 6596, 6583, 6581, 6563, 6577, 6568, 6569, 6552, 6551, 6556, 6554, 6544, 6529, 6538, 6528, 6530, 6528, 6517, 6519, 6513, 6523, 6519, 6498, 6501, 6502, 6496, 6489, 6486, 6495, 6487, 6474, 6474, 6466, 6462, 6471, 6446, 6458, 6445, 6443, 6434, 6435, 6434, 6427, 6437, 6425, 6431, 6432, 6413, 6407, 6412, 6394, 6403, 6398, 6397, 6391, 6394, 6382, 6379, 6380, 6380, 6374, 6369, 6361, 6372, 6367, 6356, 6351, 6336, 6343, 6334, 6327, 6331, 6321, 6327, 6323, 6319, 6302, 6302, 6304, 6306, 6307, 6295, 6287, 6306, 6292, 6291, 6273, 6275, 6265, 6272, 6261, 6251, 6245, 6240, 6248, 6245, 6239, 6243, 6238, 6224, 6230, 6224, 6215, 6213, 6224, 6203, 6201, 6199, 6194, 6198, 6181, 6184, 6177, 6172, 6179, 6185, 6167, 6160, 6150, 6152, 6161, 6146, 6145, 6127, 6133, 6145, 6124, 6117, 6118, 6118, 6105, 6096, 6102, 6092, 6083, 6094, 6087, 6079, 6071, 6076, 6061, 6062, 6062, 6068, 6043, 6042, 6046, 6034, 6037, 6034, 6026, 6022, 6018, 6013, 6012, 6012, 5994, 5997, 6002, 5996, 5987, 5974, 5983, 5970, 5972, 5977, 5957, 5966, 5956, 5955, 5950, 5946, 5939, 5930, 5933, 5926, 5915, 5911, 5906, 5903, 5900, 5905, 5888, 5890, 5883, 5871, 5880, 5874, 5857, 5870, 5860, 5855, 5843, 5839, 5837, 5833, 5827, 5834, 5824, 5820, 5829, 5807, 5814, 5814, 5801, 5791, 5779, 5783, 5781, 5770, 5773, 5765, 5763, 5751, 5752, 5740, 5739, 5737, 5733, 5727, 5725, 5716, 5727, 5718, 5711, 5700, 5688, 5686, 5673, 5680, 5689, 5664, 5670, 5664, 5669, 5663, 5655, 5634, 5643, 5652, 5631, 5641, 5631, 5622, 5626, 5618, 5609, 5610, 5613, 5597, 5608, 5587, 5582, 5590, 5576, 5572, 5573, 5548, 5556, 5559, 5558, 5538, 5542, 5540, 5527, 5519, 5524, 5517, 5508, 5509, 5496, 5496, 5496, 5485, 5484, 5484, 5466, 5460, 5455, 5456, 5442, 5443, 5434, 5433, 5429, 5422, 5430, 5409, 5409, 5399, 5395, 5391, 5386, 5377, 5372, 5367, 5370, 5360, 5362, 5344, 5350, 5342, 5343, 5336, 5330, 5311, 5311, 5299, 5313, 5301, 5291, 5290, 5287, 5271, 5265, 5263, 5259, 5251, 5242, 5232, 5215, 5218, 5210, 5203, 5188, 5184, 5167, 5146, 5133, 5113, 5103, 5072, 5059, 5024, 5005, 4985, 4938, 4921, 4886, 4850, 4803, 4759, 4698, 4660, 4591, 4535, 4468, 4429, 4355, 4294, 4224, 4172, 4113, 4047, 3978, 3916, 3863, 3795, 3732, 3669, 3604, 3539, 3477, 3418, 3356, 3297, 3230, 3161, 3095, 3030, 2968, 2912, 2841, 2780, 2711, 2654, 2580, 2523, 2460, 2396, 2325, 2269, 2201, 2143, 2073, 2009, 1943, 1885, 1821, 1765, 1688, 1630, 1569, 1511, 1446, 1385, 1317, 1259, 1203, 1145, 1085, 1027, 968, 909, 854, 803, 749, 696, 652, 600, 556, 509, 471, 429, 394, 356, 327, 294, 270, 251, 233, 215, 208, 200, 196, 193, 190, 185, 182, 185, 183, 183, 177, 182, 180, 174, 178, 173, 173, 171, 172, 175, 170, 169, 168, 170, 169, 165, 166, 166, 162, 162, 166, 162, 160, 160, 155, 158, 161, 157, 156, 154, 159, 152, 155, 157, 155, 155, 154, 158, 152, 154, 154, 153, 152, 150, 148, 147, 148, 146, 148, 146, 146, 146, 143, 143, 144, 138, 141, 139, 142, 143, 139, 139, 141, 141, 133, 135, 135, 132, 133, 129, 129, 128, 127, 124, 123, 123, 120, 120, 117, 116, 112, 112, 115, 111, 110, 109, 106, 108, 104, 109, 107, 105, 103, 100, 103, 101, 99, 96, 106, 95, 94, 95, 93, 91, 90, 91, 87, 86, 89, 83, 82, 83, 83, 78, 80, 79, 77, 79, 74, 73, 76, 72, 70, 71, 71, 70, 72, 69, 65, 64, 64, 63, 64, 61, 60, 61, 59, 60, 56, 57, 56, 54, 52, 53, 52, 50, 49, 47, 48, 44, 47, 48, 45, 42, 42, 41, 43, 40, 39, 39, 37, 37, 35, 36, 34, 35, 33, 32, 31, 31, 29, 29, 26, 26, 28, 25, 24, 24, 24, 22, 21, 20, 19, 19, 18, 18, 16, 15, 16, 14, 13, 14, 12, 11, 11, 10, 9, 9, 9, 8, 6, 5, 5, 4, 3, 3, 2, 2, 2, 0, 0]\\n\\n```\\n\\nDo you have any idea how to retrieve the coordinates of the inflection points on the curve?\\n\\n\\n## Answer 1:\\nAccording to [this](https://en.wikipedia.org/wiki/Inflection_point), you are not looking for the inflection point. Anyway, here is a code that uses the first and second derivate, but before it has a smooth via savgol\\\\_filter (from scipy). I think this is the best approximation for your question.\\n\\n```\\nfrom scipy import signal\\nsmooth = signal.savgol_filter(arr, 55,3)\\ndxdy =  signal.savgol_filter(np.gradient(smooth),55,3)\\ndx2dy2 = signal.savgol_filter(np.gradient(dxdy),55,3)\\nplt.subplot(121)\\nplt.plot(smooth,\\'k\\')\\nplt.plot(np.where(dx2dy2==dx2dy2.min()),smooth[np.where(dx2dy2==dx2dy2.min())],\\'ro\\')\\nplt.subplot(122)\\nplt.plot(dxdy,\\'r\\',label=\\'first derivate\\')\\nplt.plot(dx2dy2,\\'b\\',label=\\'second derivate\\')\\nplt.legend()\\n\\n```\\n\\n[![Figure](https://i.stack.imgur.com/2Xmah.png)](https://i.stack.imgur.com/2Xmah.png)\\n\\n## Answer 2:\\nI think you\\'d get what you\\'re looking for if you could find a way to smooth the curve.', 'text_chunk': '```', 'chunk_id': '60625952__1'}, page_content='```'),\n",
       " Document(metadata={'question_id': 60623689, 'full_text_md': '# node-gyp - hash md5 was not found\\nI was recently trying to install Powerlevel9k and its fonts using Powerline Fonts. During the process I was trying to follow the steps to have the appropriate python version etc... Along the lines somewhere I think I completely messed up my whole local python - openssl set up (probably trying some pip command they were having me run). Now I realized I cannot even run npm i on any of my node or angular projects anymore either.\\n\\nI have tried looked everywhere and tried every fix I could find but nothing seems to work. I tried uninstalling and reinstalling python (latest version, 2.7, and 2.6) also tried switching to using pyenv and relinking python, tried uninstalling and reinstalling openssl using homebrew and pointing bashrc and pointing the compilers to the homebrew openssl, even tried uninstalling nvm and node and reinstalling everything.\\n\\nStill no luck.\\n\\n```\\n> node-gyp rebuild\\n\\nERROR:root:code for hash md5 was not found.\\nTraceback (most recent call last):\\n  File \"/usr/local/Cellar/python@2/2.7.16/Frameworks/Python.framework/Versions/2.7/lib/python2.7/hashlib.py\", line 147, in <module>\\n    globals()[__func_name] = __get_hash(__func_name)\\n  File \"/usr/local/Cellar/python@2/2.7.16/Frameworks/Python.framework/Versions/2.7/lib/python2.7/hashlib.py\", line 97, in __get_builtin_constructor\\n    raise ValueError(\\'unsupported hash type \\' + name)\\nValueError: unsupported hash type md5\\nERROR:root:code for hash sha1 was not found.\\nTraceback (most recent call last):\\n  File \"/usr/local/Cellar/python@2/2.7.16/Frameworks/Python.framework/Versions/2.7/lib/python2.7/hashlib.py\", line 147, in <module>\\n    globals()[__func_name] = __get_hash(__func_name)\\n  File \"/usr/local/Cellar/python@2/2.7.16/Frameworks/Python.framework/Versions/2.7/lib/python2.7/hashlib.py\", line 97, in __get_builtin_constructor\\n    raise ValueError(\\'unsupported hash type \\' + name)\\nValueError: unsupported hash type sha1\\nERROR:root:code for hash sha224 was not found.\\nTraceback (most recent call last):\\n  File \"/usr/local/Cellar/python@2/2.7.16/Frameworks/Python.framework/Versions/2.7/lib/python2.7/hashlib.py\", line 147, in <module>\\n    globals()[__func_name] = __get_hash(__func_name)\\n  File \"/usr/local/Cellar/python@2/2.7.16/Frameworks/Python.framework/Versions/2.7/lib/python2.7/hashlib.py\", line 97, in __get_builtin_constructor\\n    raise ValueError(\\'unsupported hash type \\' + name)\\nValueError: unsupported hash type sha224\\nERROR:root:code for hash sha256 was not found.\\nTraceback (most recent call last):\\n  File \"/usr/local/Cellar/python@2/2.7.16/Frameworks/Python.framework/Versions/2.7/lib/python2.7/hashlib.py\", line 147, in <module>\\n    globals()[__func_name] = __get_hash(__func_name)\\n  File \"/usr/local/Cellar/python@2/2.7.16/Frameworks/Python.framework/Versions/2.7/lib/python2.7/hashlib.py\", line 97, in __get_builtin_constructor\\n    raise ValueError(\\'unsupported hash type \\' + name)\\nValueError: unsupported hash type sha256\\nERROR:root:code for hash sha384 was not found.\\nTraceback (most recent call last):\\n  File \"/usr/local/Cellar/python@2/2.7.16/Frameworks/Python.framework/Versions/2.7/lib/python2.7/hashlib.py\", line 147, in <module>\\n    globals()[__func_name] = __get_hash(__func_name)\\n  File \"/usr/local/Cellar/python@2/2.7.16/Frameworks/Python.framework/Versions/2.7/lib/python2.7/hashlib.py\", line 97, in __get_builtin_constructor\\n    raise ValueError(\\'unsupported hash type \\' + name)\\nValueError: unsupported hash type sha384\\nERROR:root:code for hash sha512 was not found.\\nTraceback (most recent call last):\\n  File \"/usr/local/Cellar/python@2/2.7.16/Frameworks/Python.framework/Versions/2.7/lib/python2.7/hashlib.py\", line 147, in <module>\\n    globals()[__func_name] = __get_hash(__func_name)\\n  File \"/usr/local/Cellar/python@2/2.7.16/Frameworks/Python.framework/Versions/2.7/lib/python2.7/hashlib.py\", line 97, in __get_builtin_constructor\\n    raise ValueError(\\'unsupported hash type \\' + name)\\nValueError: unsupported hash type sha512\\nTraceback (most recent call last):\\n  File \"/Users/joellyounrajendram/.nvm/versions/node/v12.6.0/lib/node_modules/npm/node_modules/node-gyp/gyp/gyp_main.py\", line 16, in <module>\\n    sys.exit(gyp.script_main())\\n  File \"/Users/joellyounrajendram/.nvm/versions/node/v12.6.0/lib/node_modules/npm/node_modules/node-gyp/gyp/pylib/gyp/__init__.py\", line 545, in script_main\\n    return main(sys.argv[1:])\\n  File \"/Users/joellyounrajendram/.nvm/versions/node/v12.6.0/lib/node_modules/npm/node_modules/node-gyp/gyp/pylib/gyp/__init__.py\", line 538, in main\\n    return gyp_main(args)\\n  File \"/Users/joellyounrajendram/.nvm/versions/node/v12.6.0/lib/node_modules/npm/node_modules/node-gyp/gyp/pylib/gyp/__init__.py\", line 514, in gyp_main\\n    options.duplicate_basename_check)\\n  File \"/Users/joellyounrajendram/.nvm/versions/node/v12.6.0/lib/node_modules/npm/node_modules/node-gyp/gyp/pylib/gyp/__init__.py\", line 98, in Load\\n    generator.CalculateVariables(default_variables, params)\\n  File \"/Users/joellyounrajendram/.nvm/versions/node/v12.6.0/lib/node_modules/npm/node_modules/node-gyp/gyp/pylib/gyp/generator/make.py\", line 79, in CalculateVariables\\n    import gyp.generator.xcode as xcode_generator\\n  File \"/Users/joellyounrajendram/.nvm/versions/node/v12.6.0/lib/node_modules/npm/node_modules/node-gyp/gyp/pylib/gyp/generator/xcode.py\", line 7, in <module>\\n    import gyp.xcodeproj_file\\n  File \"/Users/joellyounrajendram/.nvm/versions/node/v12.6.0/lib/node_modules/npm/node_modules/node-gyp/gyp/pylib/gyp/xcodeproj_file.py\", line 152, in <module>\\n    _new_sha1 = hashlib.sha1\\nAttributeError: \\'module\\' object has no attribute \\'sha1\\'\\n\\n```\\n', 'text_chunk': '```', 'chunk_id': '60623689__5'}, page_content='```'),\n",
       " Document(metadata={'question_id': 60617515, 'full_text_md': \"# Reading nested json as pandas dataframe\\nTrying to read a nested json into as a pandas dataframe but keep getting the error message\\n\\n```\\nValueError: Mixing dicts with non-Series may lead to ambiguous ordering.\\n\\n```\\n\\nThis is what I have tried:\\n\\n```\\nimport json\\nfile = json.load(open('../Datasets/MathNYC.json'))\\nfile = pd.DataFrame(file)\\n\\n```\\n\\nI have also tried using json\\\\_normalize and instead get a single row of data as opposed to multiple rows of data\\n\\n```\\npd.DataFrame(pd.io.json.json_normalize(file))\\n\\n```\\n\\nHere is a sample of my data:\\n\\n```\\n{'meta': {'view': {'id': 'x4ai-kstz',\\n   'name': '2013-2017 School Math Results - Gender',\\n   'averageRating': 0,\\n   'category': 'Education',\\n   'createdAt': 1506355113,\\n   'displayType': 'table',\\n   'downloadCount': 1106,\\n   'hideFromCatalog': False,\\n   'hideFromDataJson': False,\\n   'indexUpdatedAt': 1536602847,\\n   'locale': 'en_US',\\n   'newBackend': True,\\n   'numberOfComments': 0,\\n   'oid': 26867540,\\n   'provenance': 'official',\\n   'publicationAppendEnabled': False,\\n   'publicationDate': 1506356065,\\n   'publicationGroup': 14486436,\\n   'publicationStage': 'published',\\n   'rowClass': '',\\n   'rowsUpdatedAt': 1506355132,\\n   'rowsUpdatedBy': 'fn2b-3u6b',\\n   'tableId': 14486436,\\n   'totalTimesRated': 0,\\n   'viewCount': 370,\\n   'viewLastModified': 1549924017,\\n   'viewType': 'tabular',\\n   'approvals': [{'reviewedAt': 1506356065,\\n     'reviewedAutomatically': True,\\n     'state': 'approved',\\n     'submissionId': 1068765,\\n     'submissionObject': 'public_audience_request',\\n     'submissionOutcome': 'change_audience',\\n     'submittedAt': 1506356065,\\n     'workflowId': 2285,\\n     'submissionDetails': {'permissionType': 'READ'},\\n     'submissionOutcomeApplication': {'failureCount': 0, 'status': 'success'},\\n     'submitter': {'id': 'fn2b-3u6b', 'displayName': 'Jose Beiro'}}],\\n   'columns': [{'id': -1,\\n     'name': 'sid',\\n     'dataTypeName': 'meta_data',\\n     'fieldName': ':sid',\\n     'position': 0,\\n     'renderTypeName': 'meta_data',\\n     'format': {},\\n     'flags': ['hidden']},\\n    {'id': -1,\\n     'name': 'id',\\n     'dataTypeName': 'meta_data',\\n     'fieldName': ':id',\\n     'position': 0,\\n     'renderTypeName': 'meta_data',\\n     'format': {},\\n     'flags': ['hidden']},\\n    {'id': -1,\\n     'name': 'position',\\n     'dataTypeName': 'meta_data',\\n     'fieldName': ':position',\\n     'position': 0,\\n     'renderTypeName': 'meta_data',\\n     'format': {},\\n     'flags': ['hidden']},\\n    {'id': -1,\\n     'name': 'created_at',\\n     'dataTypeName': 'meta_data',\\n     'fieldName': ':created_at',\\n     'position': 0,\\n     'renderTypeName': 'meta_data',\\n     'format': {},\\n     'flags': ['hidden']},\\n    {'id': -1,\\n     'name': 'created_meta',\\n     'dataTypeName': 'meta_data',\\n     'fieldName': ':created_meta',\\n     'position': 0,\\n     'renderTypeName': 'meta_data',\\n     'format': {},\\n     'flags': ['hidden']},\\n    {'id': -1,\\n     'name': 'updated_at',\\n     'dataTypeName': 'meta_data',\\n     'fieldName': ':updated_at',\\n     'position': 0,\\n     'renderTypeName': 'meta_data',\\n     'format': {},\\n     'flags': ['hidden']}]}}}\\n\\n```\\n\", 'text_chunk': '```', 'chunk_id': '60617515__3'}, page_content='```')]"
      ]
     },
     "execution_count": 70,
     "metadata": {},
     "output_type": "execute_result"
    }
   ],
   "source": [
    "vector_store.similarity_search(\"dog\")"
   ]
  },
  {
   "cell_type": "code",
   "execution_count": 17,
   "metadata": {},
   "outputs": [
    {
     "name": "stdout",
     "output_type": "stream",
     "text": [
      "Removing datapoints MatchingEngineIndex index: projects/314194685860/locations/us-central1/indexes/2697088828794994688\n",
      "MatchingEngineIndex index Removed datapoints. Resource name: projects/314194685860/locations/us-central1/indexes/2697088828794994688\n"
     ]
    },
    {
     "data": {
      "text/plain": [
       "True"
      ]
     },
     "execution_count": 17,
     "metadata": {},
     "output_type": "execute_result"
    }
   ],
   "source": [
    "vector_store.delete(ids=[str(x) for x in list(range(7))])"
   ]
  },
  {
   "cell_type": "code",
   "execution_count": null,
   "metadata": {},
   "outputs": [],
   "source": []
  }
 ],
 "metadata": {
  "kernelspec": {
   "display_name": "Python 3",
   "language": "python",
   "name": "python3"
  },
  "language_info": {
   "codemirror_mode": {
    "name": "ipython",
    "version": 3
   },
   "file_extension": ".py",
   "mimetype": "text/x-python",
   "name": "python",
   "nbconvert_exporter": "python",
   "pygments_lexer": "ipython3",
   "version": "3.11.6"
  }
 },
 "nbformat": 4,
 "nbformat_minor": 2
}
